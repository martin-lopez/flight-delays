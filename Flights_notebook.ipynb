{
 "cells": [
  {
   "cell_type": "markdown",
   "metadata": {},
   "source": [
    "# Predicting Flight Delays"
   ]
  },
  {
   "cell_type": "code",
   "execution_count": 1,
   "metadata": {
    "collapsed": false
   },
   "outputs": [
    {
     "name": "stderr",
     "output_type": "stream",
     "text": [
      "/Users/Martin/anaconda2/lib/python2.7/site-packages/matplotlib/font_manager.py:273: UserWarning: Matplotlib is building the font cache using fc-list. This may take a moment.\n",
      "  warnings.warn('Matplotlib is building the font cache using fc-list. This may take a moment.')\n"
     ]
    }
   ],
   "source": [
    "# import packages\n",
    "import numpy as np \n",
    "import pandas as pd \n",
    "import seaborn as sns\n",
    "import matplotlib.pyplot as plt\n",
    "from sklearn.cross_validation import cross_val_score"
   ]
  },
  {
   "cell_type": "markdown",
   "metadata": {},
   "source": [
    "## Part 1: Import/Clean Data"
   ]
  },
  {
   "cell_type": "code",
   "execution_count": 2,
   "metadata": {
    "collapsed": false
   },
   "outputs": [],
   "source": [
    "# read all 2016 datasets\n",
    "# january\n",
    "flights_jan = pd.read_csv('./data/99309118_T_ONTIME_JAN/99309118_T_ONTIME_2016_1.csv')"
   ]
  },
  {
   "cell_type": "code",
   "execution_count": 3,
   "metadata": {
    "collapsed": false
   },
   "outputs": [
    {
     "name": "stdout",
     "output_type": "stream",
     "text": [
      "<class 'pandas.core.frame.DataFrame'>\n",
      "RangeIndex: 445827 entries, 0 to 445826\n",
      "Data columns (total 36 columns):\n",
      "YEAR                   445827 non-null int64\n",
      "QUARTER                445827 non-null int64\n",
      "MONTH                  445827 non-null int64\n",
      "DAY_OF_MONTH           445827 non-null int64\n",
      "DAY_OF_WEEK            445827 non-null int64\n",
      "FL_DATE                445827 non-null object\n",
      "UNIQUE_CARRIER         445827 non-null object\n",
      "FL_NUM                 445827 non-null int64\n",
      "ORIGIN                 445827 non-null object\n",
      "ORIGIN_CITY_NAME       445827 non-null object\n",
      "ORIGIN_STATE_ABR       445827 non-null object\n",
      "DEST                   445827 non-null object\n",
      "DEST_CITY_NAME         445827 non-null object\n",
      "DEST_STATE_ABR         445827 non-null object\n",
      "CRS_DEP_TIME           445827 non-null int64\n",
      "DEP_TIME               434354 non-null float64\n",
      "DEP_DELAY              434354 non-null float64\n",
      "DEP_DELAY_NEW          434354 non-null float64\n",
      "DEP_DEL15              434354 non-null float64\n",
      "DEP_DELAY_GROUP        434354 non-null float64\n",
      "DEP_TIME_BLK           445827 non-null object\n",
      "CRS_ARR_TIME           445827 non-null int64\n",
      "ARR_TIME               433920 non-null float64\n",
      "ARR_DELAY              433298 non-null float64\n",
      "ARR_DELAY_NEW          433298 non-null float64\n",
      "ARR_DEL15              433298 non-null float64\n",
      "ARR_DELAY_GROUP        433298 non-null float64\n",
      "ARR_TIME_BLK           445827 non-null object\n",
      "CANCELLED              445827 non-null float64\n",
      "DIVERTED               445827 non-null float64\n",
      "CRS_ELAPSED_TIME       445827 non-null float64\n",
      "ACTUAL_ELAPSED_TIME    433298 non-null float64\n",
      "FLIGHTS                445827 non-null float64\n",
      "DISTANCE               445827 non-null float64\n",
      "DISTANCE_GROUP         445827 non-null int64\n",
      "Unnamed: 35            0 non-null float64\n",
      "dtypes: float64(17), int64(9), object(10)\n",
      "memory usage: 122.5+ MB\n"
     ]
    }
   ],
   "source": [
    "flights_jan.info()"
   ]
  },
  {
   "cell_type": "code",
   "execution_count": 4,
   "metadata": {
    "collapsed": false
   },
   "outputs": [
    {
     "name": "stdout",
     "output_type": "stream",
     "text": [
      "<class 'pandas.core.frame.DataFrame'>\n",
      "RangeIndex: 423889 entries, 0 to 423888\n",
      "Data columns (total 36 columns):\n",
      "YEAR                   423889 non-null int64\n",
      "QUARTER                423889 non-null int64\n",
      "MONTH                  423889 non-null int64\n",
      "DAY_OF_MONTH           423889 non-null int64\n",
      "DAY_OF_WEEK            423889 non-null int64\n",
      "FL_DATE                423889 non-null object\n",
      "UNIQUE_CARRIER         423889 non-null object\n",
      "FL_NUM                 423889 non-null int64\n",
      "ORIGIN                 423889 non-null object\n",
      "ORIGIN_CITY_NAME       423889 non-null object\n",
      "ORIGIN_STATE_ABR       423889 non-null object\n",
      "DEST                   423889 non-null object\n",
      "DEST_CITY_NAME         423889 non-null object\n",
      "DEST_STATE_ABR         423889 non-null object\n",
      "CRS_DEP_TIME           423889 non-null int64\n",
      "DEP_TIME               417316 non-null float64\n",
      "DEP_DELAY              417316 non-null float64\n",
      "DEP_DELAY_NEW          417316 non-null float64\n",
      "DEP_DEL15              417316 non-null float64\n",
      "DEP_DELAY_GROUP        417316 non-null float64\n",
      "DEP_TIME_BLK           423889 non-null object\n",
      "CRS_ARR_TIME           423889 non-null int64\n",
      "ARR_TIME               416826 non-null float64\n",
      "ARR_DELAY              416097 non-null float64\n",
      "ARR_DELAY_NEW          416097 non-null float64\n",
      "ARR_DEL15              416097 non-null float64\n",
      "ARR_DELAY_GROUP        416097 non-null float64\n",
      "ARR_TIME_BLK           423889 non-null object\n",
      "CANCELLED              423889 non-null float64\n",
      "DIVERTED               423889 non-null float64\n",
      "CRS_ELAPSED_TIME       423889 non-null float64\n",
      "ACTUAL_ELAPSED_TIME    416097 non-null float64\n",
      "FLIGHTS                423889 non-null float64\n",
      "DISTANCE               423889 non-null float64\n",
      "DISTANCE_GROUP         423889 non-null int64\n",
      "Unnamed: 35            0 non-null float64\n",
      "dtypes: float64(17), int64(9), object(10)\n",
      "memory usage: 116.4+ MB\n"
     ]
    }
   ],
   "source": [
    "# february\n",
    "flights_feb = pd.read_csv('./data/99309118_T_ONTIME_FEB/99309118_T_ONTIME_2016_2.csv')\n",
    "flights_feb.info()"
   ]
  },
  {
   "cell_type": "code",
   "execution_count": 5,
   "metadata": {
    "collapsed": false
   },
   "outputs": [
    {
     "name": "stdout",
     "output_type": "stream",
     "text": [
      "<class 'pandas.core.frame.DataFrame'>\n",
      "RangeIndex: 479122 entries, 0 to 479121\n",
      "Data columns (total 36 columns):\n",
      "YEAR                   479122 non-null int64\n",
      "QUARTER                479122 non-null int64\n",
      "MONTH                  479122 non-null int64\n",
      "DAY_OF_MONTH           479122 non-null int64\n",
      "DAY_OF_WEEK            479122 non-null int64\n",
      "FL_DATE                479122 non-null object\n",
      "UNIQUE_CARRIER         479122 non-null object\n",
      "FL_NUM                 479122 non-null int64\n",
      "ORIGIN                 479122 non-null object\n",
      "ORIGIN_CITY_NAME       479122 non-null object\n",
      "ORIGIN_STATE_ABR       479122 non-null object\n",
      "DEST                   479122 non-null object\n",
      "DEST_CITY_NAME         479122 non-null object\n",
      "DEST_STATE_ABR         479122 non-null object\n",
      "CRS_DEP_TIME           479122 non-null int64\n",
      "DEP_TIME               474605 non-null float64\n",
      "DEP_DELAY              474605 non-null float64\n",
      "DEP_DELAY_NEW          474605 non-null float64\n",
      "DEP_DEL15              474605 non-null float64\n",
      "DEP_DELAY_GROUP        474605 non-null float64\n",
      "DEP_TIME_BLK           479122 non-null object\n",
      "CRS_ARR_TIME           479122 non-null int64\n",
      "ARR_TIME               474157 non-null float64\n",
      "ARR_DELAY              473286 non-null float64\n",
      "ARR_DELAY_NEW          473286 non-null float64\n",
      "ARR_DEL15              473286 non-null float64\n",
      "ARR_DELAY_GROUP        473286 non-null float64\n",
      "ARR_TIME_BLK           479122 non-null object\n",
      "CANCELLED              479122 non-null float64\n",
      "DIVERTED               479122 non-null float64\n",
      "CRS_ELAPSED_TIME       479121 non-null float64\n",
      "ACTUAL_ELAPSED_TIME    473286 non-null float64\n",
      "FLIGHTS                479122 non-null float64\n",
      "DISTANCE               479122 non-null float64\n",
      "DISTANCE_GROUP         479122 non-null int64\n",
      "Unnamed: 35            0 non-null float64\n",
      "dtypes: float64(17), int64(9), object(10)\n",
      "memory usage: 131.6+ MB\n"
     ]
    }
   ],
   "source": [
    "# march\n",
    "flights_mar = pd.read_csv('./data/99309118_T_ONTIME_MAR/99309118_T_ONTIME_2016_3.csv')\n",
    "flights_mar.info()"
   ]
  },
  {
   "cell_type": "code",
   "execution_count": 6,
   "metadata": {
    "collapsed": false
   },
   "outputs": [
    {
     "name": "stdout",
     "output_type": "stream",
     "text": [
      "<class 'pandas.core.frame.DataFrame'>\n",
      "RangeIndex: 461630 entries, 0 to 461629\n",
      "Data columns (total 36 columns):\n",
      "YEAR                   461630 non-null int64\n",
      "QUARTER                461630 non-null int64\n",
      "MONTH                  461630 non-null int64\n",
      "DAY_OF_MONTH           461630 non-null int64\n",
      "DAY_OF_WEEK            461630 non-null int64\n",
      "FL_DATE                461630 non-null object\n",
      "UNIQUE_CARRIER         461630 non-null object\n",
      "FL_NUM                 461630 non-null int64\n",
      "ORIGIN                 461630 non-null object\n",
      "ORIGIN_CITY_NAME       461630 non-null object\n",
      "ORIGIN_STATE_ABR       461630 non-null object\n",
      "DEST                   461630 non-null object\n",
      "DEST_CITY_NAME         461630 non-null object\n",
      "DEST_STATE_ABR         461630 non-null object\n",
      "CRS_DEP_TIME           461630 non-null int64\n",
      "DEP_TIME               457634 non-null float64\n",
      "DEP_DELAY              457634 non-null float64\n",
      "DEP_DELAY_NEW          457634 non-null float64\n",
      "DEP_DEL15              457634 non-null float64\n",
      "DEP_DELAY_GROUP        457634 non-null float64\n",
      "DEP_TIME_BLK           461630 non-null object\n",
      "CRS_ARR_TIME           461630 non-null int64\n",
      "ARR_TIME               457428 non-null float64\n",
      "ARR_DELAY              456702 non-null float64\n",
      "ARR_DELAY_NEW          456702 non-null float64\n",
      "ARR_DEL15              456702 non-null float64\n",
      "ARR_DELAY_GROUP        456702 non-null float64\n",
      "ARR_TIME_BLK           461630 non-null object\n",
      "CANCELLED              461630 non-null float64\n",
      "DIVERTED               461630 non-null float64\n",
      "CRS_ELAPSED_TIME       461630 non-null float64\n",
      "ACTUAL_ELAPSED_TIME    456702 non-null float64\n",
      "FLIGHTS                461630 non-null float64\n",
      "DISTANCE               461630 non-null float64\n",
      "DISTANCE_GROUP         461630 non-null int64\n",
      "Unnamed: 35            0 non-null float64\n",
      "dtypes: float64(17), int64(9), object(10)\n",
      "memory usage: 126.8+ MB\n"
     ]
    }
   ],
   "source": [
    "# april\n",
    "flights_apr = pd.read_csv('./data/99309118_T_ONTIME_APR/99309118_T_ONTIME_2016_4.csv')\n",
    "flights_apr.info()"
   ]
  },
  {
   "cell_type": "code",
   "execution_count": 7,
   "metadata": {
    "collapsed": false
   },
   "outputs": [
    {
     "name": "stdout",
     "output_type": "stream",
     "text": [
      "<class 'pandas.core.frame.DataFrame'>\n",
      "RangeIndex: 479358 entries, 0 to 479357\n",
      "Data columns (total 36 columns):\n",
      "YEAR                   479358 non-null int64\n",
      "QUARTER                479358 non-null int64\n",
      "MONTH                  479358 non-null int64\n",
      "DAY_OF_MONTH           479358 non-null int64\n",
      "DAY_OF_WEEK            479358 non-null int64\n",
      "FL_DATE                479358 non-null object\n",
      "UNIQUE_CARRIER         479358 non-null object\n",
      "FL_NUM                 479358 non-null int64\n",
      "ORIGIN                 479358 non-null object\n",
      "ORIGIN_CITY_NAME       479358 non-null object\n",
      "ORIGIN_STATE_ABR       479358 non-null object\n",
      "DEST                   479358 non-null object\n",
      "DEST_CITY_NAME         479358 non-null object\n",
      "DEST_STATE_ABR         479358 non-null object\n",
      "CRS_DEP_TIME           479358 non-null int64\n",
      "DEP_TIME               477015 non-null float64\n",
      "DEP_DELAY              477015 non-null float64\n",
      "DEP_DELAY_NEW          477015 non-null float64\n",
      "DEP_DEL15              477015 non-null float64\n",
      "DEP_DELAY_GROUP        477015 non-null float64\n",
      "DEP_TIME_BLK           479358 non-null object\n",
      "CRS_ARR_TIME           479358 non-null int64\n",
      "ARR_TIME               476726 non-null float64\n",
      "ARR_DELAY              475499 non-null float64\n",
      "ARR_DELAY_NEW          475499 non-null float64\n",
      "ARR_DEL15              475499 non-null float64\n",
      "ARR_DELAY_GROUP        475499 non-null float64\n",
      "ARR_TIME_BLK           479358 non-null object\n",
      "CANCELLED              479358 non-null float64\n",
      "DIVERTED               479358 non-null float64\n",
      "CRS_ELAPSED_TIME       479358 non-null float64\n",
      "ACTUAL_ELAPSED_TIME    475499 non-null float64\n",
      "FLIGHTS                479358 non-null float64\n",
      "DISTANCE               479358 non-null float64\n",
      "DISTANCE_GROUP         479358 non-null int64\n",
      "Unnamed: 35            0 non-null float64\n",
      "dtypes: float64(17), int64(9), object(10)\n",
      "memory usage: 131.7+ MB\n"
     ]
    }
   ],
   "source": [
    "# may\n",
    "flights_may = pd.read_csv('./data/99309118_T_ONTIME_MAY/99309118_T_ONTIME_2016_5.csv')\n",
    "flights_may.info()"
   ]
  },
  {
   "cell_type": "code",
   "execution_count": 8,
   "metadata": {
    "collapsed": false
   },
   "outputs": [
    {
     "name": "stdout",
     "output_type": "stream",
     "text": [
      "<class 'pandas.core.frame.DataFrame'>\n",
      "RangeIndex: 487637 entries, 0 to 487636\n",
      "Data columns (total 36 columns):\n",
      "YEAR                   487637 non-null int64\n",
      "QUARTER                487637 non-null int64\n",
      "MONTH                  487637 non-null int64\n",
      "DAY_OF_MONTH           487637 non-null int64\n",
      "DAY_OF_WEEK            487637 non-null int64\n",
      "FL_DATE                487637 non-null object\n",
      "UNIQUE_CARRIER         487637 non-null object\n",
      "FL_NUM                 487637 non-null int64\n",
      "ORIGIN                 487637 non-null object\n",
      "ORIGIN_CITY_NAME       487637 non-null object\n",
      "ORIGIN_STATE_ABR       487637 non-null object\n",
      "DEST                   487637 non-null object\n",
      "DEST_CITY_NAME         487637 non-null object\n",
      "DEST_STATE_ABR         487637 non-null object\n",
      "CRS_DEP_TIME           487637 non-null int64\n",
      "DEP_TIME               482889 non-null float64\n",
      "DEP_DELAY              482889 non-null float64\n",
      "DEP_DELAY_NEW          482889 non-null float64\n",
      "DEP_DEL15              482889 non-null float64\n",
      "DEP_DELAY_GROUP        482889 non-null float64\n",
      "DEP_TIME_BLK           487637 non-null object\n",
      "CRS_ARR_TIME           487637 non-null int64\n",
      "ARR_TIME               482451 non-null float64\n",
      "ARR_DELAY              480916 non-null float64\n",
      "ARR_DELAY_NEW          480916 non-null float64\n",
      "ARR_DEL15              480916 non-null float64\n",
      "ARR_DELAY_GROUP        480916 non-null float64\n",
      "ARR_TIME_BLK           487637 non-null object\n",
      "CANCELLED              487637 non-null float64\n",
      "DIVERTED               487637 non-null float64\n",
      "CRS_ELAPSED_TIME       487637 non-null float64\n",
      "ACTUAL_ELAPSED_TIME    480916 non-null float64\n",
      "FLIGHTS                487637 non-null float64\n",
      "DISTANCE               487637 non-null float64\n",
      "DISTANCE_GROUP         487637 non-null int64\n",
      "Unnamed: 35            0 non-null float64\n",
      "dtypes: float64(17), int64(9), object(10)\n",
      "memory usage: 133.9+ MB\n"
     ]
    }
   ],
   "source": [
    "# june\n",
    "flights_jun = pd.read_csv('./data/99309118_T_ONTIME_JUN/99309118_T_ONTIME_2016_6.csv')\n",
    "flights_jun.info()"
   ]
  },
  {
   "cell_type": "code",
   "execution_count": 9,
   "metadata": {
    "collapsed": false
   },
   "outputs": [
    {
     "name": "stdout",
     "output_type": "stream",
     "text": [
      "<class 'pandas.core.frame.DataFrame'>\n",
      "RangeIndex: 502457 entries, 0 to 502456\n",
      "Data columns (total 36 columns):\n",
      "YEAR                   502457 non-null int64\n",
      "QUARTER                502457 non-null int64\n",
      "MONTH                  502457 non-null int64\n",
      "DAY_OF_MONTH           502457 non-null int64\n",
      "DAY_OF_WEEK            502457 non-null int64\n",
      "FL_DATE                502457 non-null object\n",
      "UNIQUE_CARRIER         502457 non-null object\n",
      "FL_NUM                 502457 non-null int64\n",
      "ORIGIN                 502457 non-null object\n",
      "ORIGIN_CITY_NAME       502457 non-null object\n",
      "ORIGIN_STATE_ABR       502457 non-null object\n",
      "DEST                   502457 non-null object\n",
      "DEST_CITY_NAME         502457 non-null object\n",
      "DEST_STATE_ABR         502457 non-null object\n",
      "CRS_DEP_TIME           502457 non-null int64\n",
      "DEP_TIME               493607 non-null float64\n",
      "DEP_DELAY              493607 non-null float64\n",
      "DEP_DELAY_NEW          493607 non-null float64\n",
      "DEP_DEL15              493607 non-null float64\n",
      "DEP_DELAY_GROUP        493607 non-null float64\n",
      "DEP_TIME_BLK           502457 non-null object\n",
      "CRS_ARR_TIME           502457 non-null int64\n",
      "ARR_TIME               492918 non-null float64\n",
      "ARR_DELAY              491198 non-null float64\n",
      "ARR_DELAY_NEW          491198 non-null float64\n",
      "ARR_DEL15              491198 non-null float64\n",
      "ARR_DELAY_GROUP        491198 non-null float64\n",
      "ARR_TIME_BLK           502457 non-null object\n",
      "CANCELLED              502457 non-null float64\n",
      "DIVERTED               502457 non-null float64\n",
      "CRS_ELAPSED_TIME       502456 non-null float64\n",
      "ACTUAL_ELAPSED_TIME    491198 non-null float64\n",
      "FLIGHTS                502457 non-null float64\n",
      "DISTANCE               502457 non-null float64\n",
      "DISTANCE_GROUP         502457 non-null int64\n",
      "Unnamed: 35            0 non-null float64\n",
      "dtypes: float64(17), int64(9), object(10)\n",
      "memory usage: 138.0+ MB\n"
     ]
    }
   ],
   "source": [
    "# july\n",
    "flights_jul = pd.read_csv('./data/99309118_T_ONTIME_JUL/99309118_T_ONTIME_2016_7.csv')\n",
    "flights_jul.info()"
   ]
  },
  {
   "cell_type": "code",
   "execution_count": 10,
   "metadata": {
    "collapsed": false
   },
   "outputs": [
    {
     "name": "stdout",
     "output_type": "stream",
     "text": [
      "<class 'pandas.core.frame.DataFrame'>\n",
      "RangeIndex: 498347 entries, 0 to 498346\n",
      "Data columns (total 36 columns):\n",
      "YEAR                   498347 non-null int64\n",
      "QUARTER                498347 non-null int64\n",
      "MONTH                  498347 non-null int64\n",
      "DAY_OF_MONTH           498347 non-null int64\n",
      "DAY_OF_WEEK            498347 non-null int64\n",
      "FL_DATE                498347 non-null object\n",
      "UNIQUE_CARRIER         498347 non-null object\n",
      "FL_NUM                 498347 non-null int64\n",
      "ORIGIN                 498347 non-null object\n",
      "ORIGIN_CITY_NAME       498347 non-null object\n",
      "ORIGIN_STATE_ABR       498347 non-null object\n",
      "DEST                   498347 non-null object\n",
      "DEST_CITY_NAME         498347 non-null object\n",
      "DEST_STATE_ABR         498347 non-null object\n",
      "CRS_DEP_TIME           498347 non-null int64\n",
      "DEP_TIME               491761 non-null float64\n",
      "DEP_DELAY              491761 non-null float64\n",
      "DEP_DELAY_NEW          491761 non-null float64\n",
      "DEP_DEL15              491761 non-null float64\n",
      "DEP_DELAY_GROUP        491761 non-null float64\n",
      "DEP_TIME_BLK           498347 non-null object\n",
      "CRS_ARR_TIME           498347 non-null int64\n",
      "ARR_TIME               491314 non-null float64\n",
      "ARR_DELAY              489965 non-null float64\n",
      "ARR_DELAY_NEW          489965 non-null float64\n",
      "ARR_DEL15              489965 non-null float64\n",
      "ARR_DELAY_GROUP        489965 non-null float64\n",
      "ARR_TIME_BLK           498347 non-null object\n",
      "CANCELLED              498347 non-null float64\n",
      "DIVERTED               498347 non-null float64\n",
      "CRS_ELAPSED_TIME       498345 non-null float64\n",
      "ACTUAL_ELAPSED_TIME    489965 non-null float64\n",
      "FLIGHTS                498347 non-null float64\n",
      "DISTANCE               498347 non-null float64\n",
      "DISTANCE_GROUP         498347 non-null int64\n",
      "Unnamed: 35            0 non-null float64\n",
      "dtypes: float64(17), int64(9), object(10)\n",
      "memory usage: 136.9+ MB\n"
     ]
    }
   ],
   "source": [
    "# august\n",
    "flights_aug = pd.read_csv('./data/99309118_T_ONTIME_AUG/99309118_T_ONTIME_2016_8.csv')\n",
    "flights_aug.info()"
   ]
  },
  {
   "cell_type": "code",
   "execution_count": 11,
   "metadata": {
    "collapsed": false
   },
   "outputs": [
    {
     "name": "stdout",
     "output_type": "stream",
     "text": [
      "<class 'pandas.core.frame.DataFrame'>\n",
      "RangeIndex: 454878 entries, 0 to 454877\n",
      "Data columns (total 36 columns):\n",
      "YEAR                   454878 non-null int64\n",
      "QUARTER                454878 non-null int64\n",
      "MONTH                  454878 non-null int64\n",
      "DAY_OF_MONTH           454878 non-null int64\n",
      "DAY_OF_WEEK            454878 non-null int64\n",
      "FL_DATE                454878 non-null object\n",
      "UNIQUE_CARRIER         454878 non-null object\n",
      "FL_NUM                 454878 non-null int64\n",
      "ORIGIN                 454878 non-null object\n",
      "ORIGIN_CITY_NAME       454878 non-null object\n",
      "ORIGIN_STATE_ABR       454878 non-null object\n",
      "DEST                   454878 non-null object\n",
      "DEST_CITY_NAME         454878 non-null object\n",
      "DEST_STATE_ABR         454878 non-null object\n",
      "CRS_DEP_TIME           454878 non-null int64\n",
      "DEP_TIME               453449 non-null float64\n",
      "DEP_DELAY              453449 non-null float64\n",
      "DEP_DELAY_NEW          453449 non-null float64\n",
      "DEP_DEL15              453449 non-null float64\n",
      "DEP_DELAY_GROUP        453449 non-null float64\n",
      "DEP_TIME_BLK           454878 non-null object\n",
      "CRS_ARR_TIME           454878 non-null int64\n",
      "ARR_TIME               453306 non-null float64\n",
      "ARR_DELAY              452558 non-null float64\n",
      "ARR_DELAY_NEW          452558 non-null float64\n",
      "ARR_DEL15              452558 non-null float64\n",
      "ARR_DELAY_GROUP        452558 non-null float64\n",
      "ARR_TIME_BLK           454878 non-null object\n",
      "CANCELLED              454878 non-null float64\n",
      "DIVERTED               454878 non-null float64\n",
      "CRS_ELAPSED_TIME       454878 non-null float64\n",
      "ACTUAL_ELAPSED_TIME    452558 non-null float64\n",
      "FLIGHTS                454878 non-null float64\n",
      "DISTANCE               454878 non-null float64\n",
      "DISTANCE_GROUP         454878 non-null int64\n",
      "Unnamed: 35            0 non-null float64\n",
      "dtypes: float64(17), int64(9), object(10)\n",
      "memory usage: 124.9+ MB\n"
     ]
    }
   ],
   "source": [
    "# september\n",
    "flights_sep = pd.read_csv('./data/99309118_T_ONTIME_SEP/99309118_T_ONTIME_2016_9.csv')\n",
    "flights_sep.info()"
   ]
  },
  {
   "cell_type": "code",
   "execution_count": 12,
   "metadata": {
    "collapsed": false
   },
   "outputs": [
    {
     "name": "stdout",
     "output_type": "stream",
     "text": [
      "<class 'pandas.core.frame.DataFrame'>\n",
      "RangeIndex: 4233145 entries, 0 to 4233144\n",
      "Data columns (total 36 columns):\n",
      "YEAR                   int64\n",
      "QUARTER                int64\n",
      "MONTH                  int64\n",
      "DAY_OF_MONTH           int64\n",
      "DAY_OF_WEEK            int64\n",
      "FL_DATE                object\n",
      "UNIQUE_CARRIER         object\n",
      "FL_NUM                 int64\n",
      "ORIGIN                 object\n",
      "ORIGIN_CITY_NAME       object\n",
      "ORIGIN_STATE_ABR       object\n",
      "DEST                   object\n",
      "DEST_CITY_NAME         object\n",
      "DEST_STATE_ABR         object\n",
      "CRS_DEP_TIME           int64\n",
      "DEP_TIME               float64\n",
      "DEP_DELAY              float64\n",
      "DEP_DELAY_NEW          float64\n",
      "DEP_DEL15              float64\n",
      "DEP_DELAY_GROUP        float64\n",
      "DEP_TIME_BLK           object\n",
      "CRS_ARR_TIME           int64\n",
      "ARR_TIME               float64\n",
      "ARR_DELAY              float64\n",
      "ARR_DELAY_NEW          float64\n",
      "ARR_DEL15              float64\n",
      "ARR_DELAY_GROUP        float64\n",
      "ARR_TIME_BLK           object\n",
      "CANCELLED              float64\n",
      "DIVERTED               float64\n",
      "CRS_ELAPSED_TIME       float64\n",
      "ACTUAL_ELAPSED_TIME    float64\n",
      "FLIGHTS                float64\n",
      "DISTANCE               float64\n",
      "DISTANCE_GROUP         int64\n",
      "Unnamed: 35            float64\n",
      "dtypes: float64(17), int64(9), object(10)\n",
      "memory usage: 1.1+ GB\n"
     ]
    }
   ],
   "source": [
    "# merge data for all months\n",
    "\n",
    "flights_all = pd.concat([flights_jan,flights_feb,flights_mar,flights_apr,flights_may,flights_jun,flights_jul,flights_aug,flights_sep], axis=0, ignore_index=True)\n",
    "flights_all.info()"
   ]
  },
  {
   "cell_type": "code",
   "execution_count": 13,
   "metadata": {
    "collapsed": false
   },
   "outputs": [
    {
     "data": {
      "text/html": [
       "<div>\n",
       "<table border=\"1\" class=\"dataframe\">\n",
       "  <thead>\n",
       "    <tr style=\"text-align: right;\">\n",
       "      <th></th>\n",
       "      <th>YEAR</th>\n",
       "      <th>QUARTER</th>\n",
       "      <th>MONTH</th>\n",
       "      <th>DAY_OF_MONTH</th>\n",
       "      <th>DAY_OF_WEEK</th>\n",
       "      <th>FL_DATE</th>\n",
       "      <th>UNIQUE_CARRIER</th>\n",
       "      <th>FL_NUM</th>\n",
       "      <th>ORIGIN</th>\n",
       "      <th>ORIGIN_CITY_NAME</th>\n",
       "      <th>...</th>\n",
       "      <th>ARR_DELAY_GROUP</th>\n",
       "      <th>ARR_TIME_BLK</th>\n",
       "      <th>CANCELLED</th>\n",
       "      <th>DIVERTED</th>\n",
       "      <th>CRS_ELAPSED_TIME</th>\n",
       "      <th>ACTUAL_ELAPSED_TIME</th>\n",
       "      <th>FLIGHTS</th>\n",
       "      <th>DISTANCE</th>\n",
       "      <th>DISTANCE_GROUP</th>\n",
       "      <th>Unnamed: 35</th>\n",
       "    </tr>\n",
       "  </thead>\n",
       "  <tbody>\n",
       "    <tr>\n",
       "      <th>0</th>\n",
       "      <td>2016</td>\n",
       "      <td>1</td>\n",
       "      <td>1</td>\n",
       "      <td>19</td>\n",
       "      <td>2</td>\n",
       "      <td>2016-01-19</td>\n",
       "      <td>DL</td>\n",
       "      <td>2452</td>\n",
       "      <td>ATL</td>\n",
       "      <td>Atlanta, GA</td>\n",
       "      <td>...</td>\n",
       "      <td>-1.0</td>\n",
       "      <td>1100-1159</td>\n",
       "      <td>0.0</td>\n",
       "      <td>0.0</td>\n",
       "      <td>89.0</td>\n",
       "      <td>84.0</td>\n",
       "      <td>1.0</td>\n",
       "      <td>481.0</td>\n",
       "      <td>2</td>\n",
       "      <td>NaN</td>\n",
       "    </tr>\n",
       "    <tr>\n",
       "      <th>1</th>\n",
       "      <td>2016</td>\n",
       "      <td>1</td>\n",
       "      <td>1</td>\n",
       "      <td>19</td>\n",
       "      <td>2</td>\n",
       "      <td>2016-01-19</td>\n",
       "      <td>DL</td>\n",
       "      <td>2452</td>\n",
       "      <td>RIC</td>\n",
       "      <td>Richmond, VA</td>\n",
       "      <td>...</td>\n",
       "      <td>-2.0</td>\n",
       "      <td>1400-1459</td>\n",
       "      <td>0.0</td>\n",
       "      <td>0.0</td>\n",
       "      <td>112.0</td>\n",
       "      <td>96.0</td>\n",
       "      <td>1.0</td>\n",
       "      <td>481.0</td>\n",
       "      <td>2</td>\n",
       "      <td>NaN</td>\n",
       "    </tr>\n",
       "    <tr>\n",
       "      <th>2</th>\n",
       "      <td>2016</td>\n",
       "      <td>1</td>\n",
       "      <td>1</td>\n",
       "      <td>19</td>\n",
       "      <td>2</td>\n",
       "      <td>2016-01-19</td>\n",
       "      <td>DL</td>\n",
       "      <td>2453</td>\n",
       "      <td>BOS</td>\n",
       "      <td>Boston, MA</td>\n",
       "      <td>...</td>\n",
       "      <td>-2.0</td>\n",
       "      <td>1000-1059</td>\n",
       "      <td>0.0</td>\n",
       "      <td>0.0</td>\n",
       "      <td>348.0</td>\n",
       "      <td>309.0</td>\n",
       "      <td>1.0</td>\n",
       "      <td>2105.0</td>\n",
       "      <td>9</td>\n",
       "      <td>NaN</td>\n",
       "    </tr>\n",
       "    <tr>\n",
       "      <th>3</th>\n",
       "      <td>2016</td>\n",
       "      <td>1</td>\n",
       "      <td>1</td>\n",
       "      <td>19</td>\n",
       "      <td>2</td>\n",
       "      <td>2016-01-19</td>\n",
       "      <td>DL</td>\n",
       "      <td>2454</td>\n",
       "      <td>SNA</td>\n",
       "      <td>Santa Ana, CA</td>\n",
       "      <td>...</td>\n",
       "      <td>-1.0</td>\n",
       "      <td>1400-1459</td>\n",
       "      <td>0.0</td>\n",
       "      <td>0.0</td>\n",
       "      <td>261.0</td>\n",
       "      <td>254.0</td>\n",
       "      <td>1.0</td>\n",
       "      <td>1919.0</td>\n",
       "      <td>8</td>\n",
       "      <td>NaN</td>\n",
       "    </tr>\n",
       "    <tr>\n",
       "      <th>4</th>\n",
       "      <td>2016</td>\n",
       "      <td>1</td>\n",
       "      <td>1</td>\n",
       "      <td>19</td>\n",
       "      <td>2</td>\n",
       "      <td>2016-01-19</td>\n",
       "      <td>DL</td>\n",
       "      <td>2455</td>\n",
       "      <td>SAN</td>\n",
       "      <td>San Diego, CA</td>\n",
       "      <td>...</td>\n",
       "      <td>-2.0</td>\n",
       "      <td>2000-2059</td>\n",
       "      <td>0.0</td>\n",
       "      <td>0.0</td>\n",
       "      <td>326.0</td>\n",
       "      <td>299.0</td>\n",
       "      <td>1.0</td>\n",
       "      <td>2446.0</td>\n",
       "      <td>10</td>\n",
       "      <td>NaN</td>\n",
       "    </tr>\n",
       "  </tbody>\n",
       "</table>\n",
       "<p>5 rows × 36 columns</p>\n",
       "</div>"
      ],
      "text/plain": [
       "   YEAR  QUARTER  MONTH  DAY_OF_MONTH  DAY_OF_WEEK     FL_DATE UNIQUE_CARRIER  \\\n",
       "0  2016        1      1            19            2  2016-01-19             DL   \n",
       "1  2016        1      1            19            2  2016-01-19             DL   \n",
       "2  2016        1      1            19            2  2016-01-19             DL   \n",
       "3  2016        1      1            19            2  2016-01-19             DL   \n",
       "4  2016        1      1            19            2  2016-01-19             DL   \n",
       "\n",
       "   FL_NUM ORIGIN ORIGIN_CITY_NAME     ...      ARR_DELAY_GROUP ARR_TIME_BLK  \\\n",
       "0    2452    ATL      Atlanta, GA     ...                 -1.0    1100-1159   \n",
       "1    2452    RIC     Richmond, VA     ...                 -2.0    1400-1459   \n",
       "2    2453    BOS       Boston, MA     ...                 -2.0    1000-1059   \n",
       "3    2454    SNA    Santa Ana, CA     ...                 -1.0    1400-1459   \n",
       "4    2455    SAN    San Diego, CA     ...                 -2.0    2000-2059   \n",
       "\n",
       "  CANCELLED DIVERTED  CRS_ELAPSED_TIME  ACTUAL_ELAPSED_TIME  FLIGHTS  \\\n",
       "0       0.0      0.0              89.0                 84.0      1.0   \n",
       "1       0.0      0.0             112.0                 96.0      1.0   \n",
       "2       0.0      0.0             348.0                309.0      1.0   \n",
       "3       0.0      0.0             261.0                254.0      1.0   \n",
       "4       0.0      0.0             326.0                299.0      1.0   \n",
       "\n",
       "   DISTANCE  DISTANCE_GROUP  Unnamed: 35  \n",
       "0     481.0               2          NaN  \n",
       "1     481.0               2          NaN  \n",
       "2    2105.0               9          NaN  \n",
       "3    1919.0               8          NaN  \n",
       "4    2446.0              10          NaN  \n",
       "\n",
       "[5 rows x 36 columns]"
      ]
     },
     "execution_count": 13,
     "metadata": {},
     "output_type": "execute_result"
    }
   ],
   "source": [
    "flights_all.head()"
   ]
  },
  {
   "cell_type": "code",
   "execution_count": 14,
   "metadata": {
    "collapsed": false
   },
   "outputs": [],
   "source": [
    "flights_all.drop('Unnamed: 35', axis=1, inplace=True)"
   ]
  },
  {
   "cell_type": "code",
   "execution_count": 15,
   "metadata": {
    "collapsed": false
   },
   "outputs": [
    {
     "name": "stdout",
     "output_type": "stream",
     "text": [
      "<class 'pandas.core.frame.DataFrame'>\n",
      "RangeIndex: 4233145 entries, 0 to 4233144\n",
      "Data columns (total 35 columns):\n",
      "YEAR                   int64\n",
      "QUARTER                int64\n",
      "MONTH                  int64\n",
      "DAY_OF_MONTH           int64\n",
      "DAY_OF_WEEK            int64\n",
      "FL_DATE                object\n",
      "UNIQUE_CARRIER         object\n",
      "FL_NUM                 int64\n",
      "ORIGIN                 object\n",
      "ORIGIN_CITY_NAME       object\n",
      "ORIGIN_STATE_ABR       object\n",
      "DEST                   object\n",
      "DEST_CITY_NAME         object\n",
      "DEST_STATE_ABR         object\n",
      "CRS_DEP_TIME           int64\n",
      "DEP_TIME               float64\n",
      "DEP_DELAY              float64\n",
      "DEP_DELAY_NEW          float64\n",
      "DEP_DEL15              float64\n",
      "DEP_DELAY_GROUP        float64\n",
      "DEP_TIME_BLK           object\n",
      "CRS_ARR_TIME           int64\n",
      "ARR_TIME               float64\n",
      "ARR_DELAY              float64\n",
      "ARR_DELAY_NEW          float64\n",
      "ARR_DEL15              float64\n",
      "ARR_DELAY_GROUP        float64\n",
      "ARR_TIME_BLK           object\n",
      "CANCELLED              float64\n",
      "DIVERTED               float64\n",
      "CRS_ELAPSED_TIME       float64\n",
      "ACTUAL_ELAPSED_TIME    float64\n",
      "FLIGHTS                float64\n",
      "DISTANCE               float64\n",
      "DISTANCE_GROUP         int64\n",
      "dtypes: float64(16), int64(9), object(10)\n",
      "memory usage: 1.1+ GB\n"
     ]
    }
   ],
   "source": [
    "flights_all.info()"
   ]
  },
  {
   "cell_type": "code",
   "execution_count": 16,
   "metadata": {
    "collapsed": false
   },
   "outputs": [
    {
     "name": "stdout",
     "output_type": "stream",
     "text": [
      "<class 'pandas.core.frame.DataFrame'>\n",
      "RangeIndex: 4233145 entries, 0 to 4233144\n",
      "Data columns (total 36 columns):\n",
      "YEAR                   int64\n",
      "QUARTER                int64\n",
      "MONTH                  int64\n",
      "DAY_OF_MONTH           int64\n",
      "DAY_OF_WEEK            int64\n",
      "FL_DATE                object\n",
      "UNIQUE_CARRIER         object\n",
      "FL_NUM                 int64\n",
      "ORIGIN                 object\n",
      "ORIGIN_CITY_NAME       object\n",
      "ORIGIN_STATE_ABR       object\n",
      "DEST                   object\n",
      "DEST_CITY_NAME         object\n",
      "DEST_STATE_ABR         object\n",
      "CRS_DEP_TIME           int64\n",
      "DEP_TIME               float64\n",
      "DEP_DELAY              float64\n",
      "DEP_DELAY_NEW          float64\n",
      "DEP_DEL15              float64\n",
      "DEP_DELAY_GROUP        float64\n",
      "DEP_TIME_BLK           object\n",
      "CRS_ARR_TIME           int64\n",
      "ARR_TIME               float64\n",
      "ARR_DELAY              float64\n",
      "ARR_DELAY_NEW          float64\n",
      "ARR_DEL15              float64\n",
      "ARR_DELAY_GROUP        float64\n",
      "ARR_TIME_BLK           object\n",
      "CANCELLED              float64\n",
      "DIVERTED               float64\n",
      "CRS_ELAPSED_TIME       float64\n",
      "ACTUAL_ELAPSED_TIME    float64\n",
      "FLIGHTS                float64\n",
      "DISTANCE               float64\n",
      "DISTANCE_GROUP         int64\n",
      "cat_response           int64\n",
      "dtypes: float64(16), int64(10), object(10)\n",
      "memory usage: 1.1+ GB\n"
     ]
    }
   ],
   "source": [
    "flights_all['cat_response']=flights_all['DEP_DELAY_NEW'].apply(lambda x: 0 if x == 0 else 1)\n",
    "flights_all.info()"
   ]
  },
  {
   "cell_type": "code",
   "execution_count": 17,
   "metadata": {
    "collapsed": false
   },
   "outputs": [
    {
     "data": {
      "text/plain": [
       "YEAR                       0\n",
       "QUARTER                    0\n",
       "MONTH                      0\n",
       "DAY_OF_MONTH               0\n",
       "DAY_OF_WEEK                0\n",
       "FL_DATE                    0\n",
       "UNIQUE_CARRIER             0\n",
       "FL_NUM                     0\n",
       "ORIGIN                     0\n",
       "ORIGIN_CITY_NAME           0\n",
       "ORIGIN_STATE_ABR           0\n",
       "DEST                       0\n",
       "DEST_CITY_NAME             0\n",
       "DEST_STATE_ABR             0\n",
       "CRS_DEP_TIME               0\n",
       "DEP_TIME               50515\n",
       "DEP_DELAY              50515\n",
       "DEP_DELAY_NEW          50515\n",
       "DEP_DEL15              50515\n",
       "DEP_DELAY_GROUP        50515\n",
       "DEP_TIME_BLK               0\n",
       "CRS_ARR_TIME               0\n",
       "ARR_TIME               54099\n",
       "ARR_DELAY              63626\n",
       "ARR_DELAY_NEW          63626\n",
       "ARR_DEL15              63626\n",
       "ARR_DELAY_GROUP        63626\n",
       "ARR_TIME_BLK               0\n",
       "CANCELLED                  0\n",
       "DIVERTED                   0\n",
       "CRS_ELAPSED_TIME           4\n",
       "ACTUAL_ELAPSED_TIME    63626\n",
       "FLIGHTS                    0\n",
       "DISTANCE                   0\n",
       "DISTANCE_GROUP             0\n",
       "cat_response               0\n",
       "dtype: int64"
      ]
     },
     "execution_count": 17,
     "metadata": {},
     "output_type": "execute_result"
    }
   ],
   "source": [
    "flights_all.isnull().sum()"
   ]
  },
  {
   "cell_type": "code",
   "execution_count": 18,
   "metadata": {
    "collapsed": false
   },
   "outputs": [
    {
     "name": "stdout",
     "output_type": "stream",
     "text": [
      "63626.0\n"
     ]
    }
   ],
   "source": [
    "print flights_all['CANCELLED'].sum() + flights_all['DIVERTED'].sum()"
   ]
  },
  {
   "cell_type": "code",
   "execution_count": 19,
   "metadata": {
    "collapsed": false
   },
   "outputs": [
    {
     "name": "stdout",
     "output_type": "stream",
     "text": [
      "<class 'pandas.core.frame.DataFrame'>\n",
      "Int64Index: 4169519 entries, 0 to 4233144\n",
      "Data columns (total 36 columns):\n",
      "YEAR                   int64\n",
      "QUARTER                int64\n",
      "MONTH                  int64\n",
      "DAY_OF_MONTH           int64\n",
      "DAY_OF_WEEK            int64\n",
      "FL_DATE                object\n",
      "UNIQUE_CARRIER         object\n",
      "FL_NUM                 int64\n",
      "ORIGIN                 object\n",
      "ORIGIN_CITY_NAME       object\n",
      "ORIGIN_STATE_ABR       object\n",
      "DEST                   object\n",
      "DEST_CITY_NAME         object\n",
      "DEST_STATE_ABR         object\n",
      "CRS_DEP_TIME           int64\n",
      "DEP_TIME               float64\n",
      "DEP_DELAY              float64\n",
      "DEP_DELAY_NEW          float64\n",
      "DEP_DEL15              float64\n",
      "DEP_DELAY_GROUP        float64\n",
      "DEP_TIME_BLK           object\n",
      "CRS_ARR_TIME           int64\n",
      "ARR_TIME               float64\n",
      "ARR_DELAY              float64\n",
      "ARR_DELAY_NEW          float64\n",
      "ARR_DEL15              float64\n",
      "ARR_DELAY_GROUP        float64\n",
      "ARR_TIME_BLK           object\n",
      "CANCELLED              float64\n",
      "DIVERTED               float64\n",
      "CRS_ELAPSED_TIME       float64\n",
      "ACTUAL_ELAPSED_TIME    float64\n",
      "FLIGHTS                float64\n",
      "DISTANCE               float64\n",
      "DISTANCE_GROUP         int64\n",
      "cat_response           int64\n",
      "dtypes: float64(16), int64(10), object(10)\n",
      "memory usage: 1.1+ GB\n"
     ]
    }
   ],
   "source": [
    "flights_all = flights_all[(flights_all.DIVERTED == 0) & (flights_all.CANCELLED == 0)]\n",
    "flights_all.info()"
   ]
  },
  {
   "cell_type": "code",
   "execution_count": 20,
   "metadata": {
    "collapsed": false
   },
   "outputs": [
    {
     "data": {
      "text/plain": [
       "YEAR                   0\n",
       "QUARTER                0\n",
       "MONTH                  0\n",
       "DAY_OF_MONTH           0\n",
       "DAY_OF_WEEK            0\n",
       "FL_DATE                0\n",
       "UNIQUE_CARRIER         0\n",
       "FL_NUM                 0\n",
       "ORIGIN                 0\n",
       "ORIGIN_CITY_NAME       0\n",
       "ORIGIN_STATE_ABR       0\n",
       "DEST                   0\n",
       "DEST_CITY_NAME         0\n",
       "DEST_STATE_ABR         0\n",
       "CRS_DEP_TIME           0\n",
       "DEP_TIME               0\n",
       "DEP_DELAY              0\n",
       "DEP_DELAY_NEW          0\n",
       "DEP_DEL15              0\n",
       "DEP_DELAY_GROUP        0\n",
       "DEP_TIME_BLK           0\n",
       "CRS_ARR_TIME           0\n",
       "ARR_TIME               0\n",
       "ARR_DELAY              0\n",
       "ARR_DELAY_NEW          0\n",
       "ARR_DEL15              0\n",
       "ARR_DELAY_GROUP        0\n",
       "ARR_TIME_BLK           0\n",
       "CANCELLED              0\n",
       "DIVERTED               0\n",
       "CRS_ELAPSED_TIME       0\n",
       "ACTUAL_ELAPSED_TIME    0\n",
       "FLIGHTS                0\n",
       "DISTANCE               0\n",
       "DISTANCE_GROUP         0\n",
       "cat_response           0\n",
       "dtype: int64"
      ]
     },
     "execution_count": 20,
     "metadata": {},
     "output_type": "execute_result"
    }
   ],
   "source": [
    "flights_all.isnull().sum()"
   ]
  },
  {
   "cell_type": "markdown",
   "metadata": {},
   "source": [
    "## Part 2: Featurize/Visual Analysis"
   ]
  },
  {
   "cell_type": "code",
   "execution_count": 21,
   "metadata": {
    "collapsed": false
   },
   "outputs": [
    {
     "data": {
      "text/plain": [
       "0.3467944383992494"
      ]
     },
     "execution_count": 21,
     "metadata": {},
     "output_type": "execute_result"
    }
   ],
   "source": [
    "flights_all.cat_response.mean()"
   ]
  },
  {
   "cell_type": "code",
   "execution_count": 22,
   "metadata": {
    "collapsed": false
   },
   "outputs": [
    {
     "data": {
      "text/plain": [
       "0.6532055616007506"
      ]
     },
     "execution_count": 22,
     "metadata": {},
     "output_type": "execute_result"
    }
   ],
   "source": [
    "# null accuracy\n",
    "1-flights_all.cat_response.mean()"
   ]
  },
  {
   "cell_type": "code",
   "execution_count": 23,
   "metadata": {
    "collapsed": false
   },
   "outputs": [
    {
     "data": {
      "text/plain": [
       "<matplotlib.axes._subplots.AxesSubplot at 0x116990190>"
      ]
     },
     "execution_count": 23,
     "metadata": {},
     "output_type": "execute_result"
    },
    {
     "data": {
      "image/png": "[encoded data removed]",
      "text/plain": [
       "<matplotlib.figure.Figure at 0x1068b3c90>"
      ]
     },
     "metadata": {},
     "output_type": "display_data"
    }
   ],
   "source": [
    "# look for important features\n",
    "# QUARTER\n",
    "\n",
    "%matplotlib inline\n",
    "import matplotlib.pyplot as plt\n",
    "\n",
    "flights_all.groupby('QUARTER').cat_response.mean().plot(kind='bar')"
   ]
  },
  {
   "cell_type": "code",
   "execution_count": 24,
   "metadata": {
    "collapsed": false
   },
   "outputs": [
    {
     "data": {
      "text/plain": [
       "<matplotlib.axes._subplots.AxesSubplot at 0x105ee4310>"
      ]
     },
     "execution_count": 24,
     "metadata": {},
     "output_type": "execute_result"
    },
    {
     "data": {
      "image/png": "[encoded data removed]",
      "text/plain": [
       "<matplotlib.figure.Figure at 0x133467250>"
      ]
     },
     "metadata": {},
     "output_type": "display_data"
    }
   ],
   "source": [
    "# MONTH\n",
    "flights_all.groupby('MONTH').cat_response.mean().plot(kind='bar')"
   ]
  },
  {
   "cell_type": "code",
   "execution_count": 25,
   "metadata": {
    "collapsed": false
   },
   "outputs": [
    {
     "data": {
      "text/plain": [
       "<matplotlib.axes._subplots.AxesSubplot at 0x1173a5e10>"
      ]
     },
     "execution_count": 25,
     "metadata": {},
     "output_type": "execute_result"
    },
    {
     "data": {
      "image/png": "[encoded data removed]",
      "text/plain": [
       "<matplotlib.figure.Figure at 0x123729e90>"
      ]
     },
     "metadata": {},
     "output_type": "display_data"
    }
   ],
   "source": [
    "# DAY_OF_MONTH\n",
    "flights_all.groupby('DAY_OF_MONTH').cat_response.mean().plot(kind='bar')"
   ]
  },
  {
   "cell_type": "code",
   "execution_count": 26,
   "metadata": {
    "collapsed": false
   },
   "outputs": [
    {
     "data": {
      "text/plain": [
       "<matplotlib.axes._subplots.AxesSubplot at 0x1179b0cd0>"
      ]
     },
     "execution_count": 26,
     "metadata": {},
     "output_type": "execute_result"
    },
    {
     "data": {
      "image/png": "[encoded data removed]",
      "text/plain": [
       "<matplotlib.figure.Figure at 0x11771d6d0>"
      ]
     },
     "metadata": {},
     "output_type": "display_data"
    }
   ],
   "source": [
    "# DAY_OF_WEEK\n",
    "flights_all.groupby('DAY_OF_WEEK').cat_response.mean().plot(kind='bar')"
   ]
  },
  {
   "cell_type": "code",
   "execution_count": 27,
   "metadata": {
    "collapsed": false
   },
   "outputs": [
    {
     "data": {
      "text/plain": [
       "<matplotlib.axes._subplots.AxesSubplot at 0x1178e2650>"
      ]
     },
     "execution_count": 27,
     "metadata": {},
     "output_type": "execute_result"
    },
    {
     "data": {
      "image/png": "[encoded data removed]",
      "text/plain": [
       "<matplotlib.figure.Figure at 0x116e06910>"
      ]
     },
     "metadata": {},
     "output_type": "display_data"
    }
   ],
   "source": [
    "# UNIQUE_CARRIER\n",
    "flights_all.groupby('UNIQUE_CARRIER').cat_response.mean().plot(kind='bar')"
   ]
  },
  {
   "cell_type": "code",
   "execution_count": 28,
   "metadata": {
    "collapsed": false
   },
   "outputs": [
    {
     "data": {
      "text/plain": [
       "WN    958016\n",
       "DL    693089\n",
       "AA    682481\n",
       "OO    450840\n",
       "UA    397665\n",
       "EV    365964\n",
       "B6    208496\n",
       "AS    133909\n",
       "NK    100492\n",
       "F9     69893\n",
       "HA     57983\n",
       "VX     50691\n",
       "Name: UNIQUE_CARRIER, dtype: int64"
      ]
     },
     "execution_count": 28,
     "metadata": {},
     "output_type": "execute_result"
    }
   ],
   "source": [
    "flights_all.UNIQUE_CARRIER.value_counts()"
   ]
  },
  {
   "cell_type": "code",
   "execution_count": 29,
   "metadata": {
    "collapsed": false
   },
   "outputs": [
    {
     "data": {
      "text/plain": [
       "<matplotlib.axes._subplots.AxesSubplot at 0x116fc7d90>"
      ]
     },
     "execution_count": 29,
     "metadata": {},
     "output_type": "execute_result"
    },
    {
     "data": {
      "image/png": "[encoded data removed]",
      "text/plain": [
       "<matplotlib.figure.Figure at 0x1179ce190>"
      ]
     },
     "metadata": {},
     "output_type": "display_data"
    }
   ],
   "source": [
    "# FL_NUM\n",
    "flights_all.groupby('FL_NUM').cat_response.mean().plot()"
   ]
  },
  {
   "cell_type": "code",
   "execution_count": 30,
   "metadata": {
    "collapsed": false
   },
   "outputs": [
    {
     "data": {
      "text/plain": [
       "ORIGIN\n",
       "MHK    0.000000\n",
       "LWS    0.095506\n",
       "HLN    0.104083\n",
       "SCC    0.104334\n",
       "EKO    0.104603\n",
       "BET    0.110335\n",
       "PIH    0.111601\n",
       "RKS    0.112288\n",
       "GJT    0.115228\n",
       "TYR    0.116456\n",
       "BIL    0.123855\n",
       "LCH    0.127139\n",
       "GCC    0.133508\n",
       "YAK    0.135849\n",
       "IDA    0.136120\n",
       "YUM    0.137705\n",
       "BTM    0.138340\n",
       "GFK    0.141232\n",
       "ISN    0.142113\n",
       "CPR    0.143750\n",
       "BRO    0.145529\n",
       "FCA    0.148328\n",
       "AZO    0.149077\n",
       "BLI    0.150215\n",
       "GTF    0.151474\n",
       "BRW    0.154412\n",
       "SIT    0.160471\n",
       "LSE    0.165574\n",
       "HOB    0.167411\n",
       "PSG    0.167587\n",
       "         ...   \n",
       "IAG    0.381679\n",
       "HYA    0.382609\n",
       "SMF    0.386306\n",
       "SFO    0.388617\n",
       "PBI    0.396163\n",
       "JFK    0.397761\n",
       "ACK    0.398955\n",
       "STL    0.400672\n",
       "ACY    0.401663\n",
       "ORD    0.403601\n",
       "FLL    0.404541\n",
       "LAS    0.409935\n",
       "ABI    0.410256\n",
       "BWI    0.411596\n",
       "ORH    0.416350\n",
       "EWR    0.416726\n",
       "BQN    0.418470\n",
       "MIA    0.423777\n",
       "WYS    0.428571\n",
       "PBG    0.432099\n",
       "MMH    0.441558\n",
       "LAX    0.446917\n",
       "OAK    0.448226\n",
       "MDW    0.449906\n",
       "HOU    0.456794\n",
       "OTH    0.475983\n",
       "DAL    0.476074\n",
       "GUM    0.481752\n",
       "MVY    0.576923\n",
       "EFD    1.000000\n",
       "Name: cat_response, dtype: float64"
      ]
     },
     "execution_count": 30,
     "metadata": {},
     "output_type": "execute_result"
    }
   ],
   "source": [
    "# ORIGIN\n",
    "flights_all.groupby('ORIGIN').cat_response.mean().sort_values()"
   ]
  },
  {
   "cell_type": "code",
   "execution_count": 31,
   "metadata": {
    "collapsed": false
   },
   "outputs": [
    {
     "data": {
      "text/plain": [
       "<matplotlib.axes._subplots.AxesSubplot at 0x11823d510>"
      ]
     },
     "execution_count": 31,
     "metadata": {},
     "output_type": "execute_result"
    },
    {
     "data": {
      "image/png": "[encoded data removed]",
      "text/plain": [
       "<matplotlib.figure.Figure at 0x116e068d0>"
      ]
     },
     "metadata": {},
     "output_type": "display_data"
    }
   ],
   "source": [
    "# ORIGIN_STATE_ABR\n",
    "flights_all.groupby('ORIGIN_STATE_ABR').cat_response.mean().plot(kind='bar',figsize=(10,5))"
   ]
  },
  {
   "cell_type": "code",
   "execution_count": 32,
   "metadata": {
    "collapsed": false
   },
   "outputs": [
    {
     "data": {
      "text/plain": [
       "DEST\n",
       "MHK    0.000000\n",
       "LWS    0.069549\n",
       "EKO    0.073375\n",
       "TWF    0.089796\n",
       "BET    0.096234\n",
       "CDC    0.096360\n",
       "BTM    0.104208\n",
       "ADQ    0.107579\n",
       "PIH    0.113069\n",
       "BRW    0.116348\n",
       "COD    0.124829\n",
       "YUM    0.126640\n",
       "AKN    0.126984\n",
       "ROW    0.133094\n",
       "WYS    0.138393\n",
       "FLG    0.145996\n",
       "CDV    0.147940\n",
       "ABR    0.149171\n",
       "HIB    0.151599\n",
       "ITH    0.153251\n",
       "SCC    0.153481\n",
       "OTZ    0.153846\n",
       "RHI    0.154746\n",
       "GJT    0.157942\n",
       "CIU    0.158824\n",
       "PLN    0.160757\n",
       "BRD    0.164927\n",
       "BJI    0.165138\n",
       "CPR    0.167857\n",
       "GCC    0.167979\n",
       "         ...   \n",
       "BDL    0.388979\n",
       "IAD    0.389031\n",
       "LAS    0.393744\n",
       "LAX    0.395802\n",
       "MDW    0.395981\n",
       "SMF    0.396725\n",
       "EWR    0.397683\n",
       "PBI    0.403624\n",
       "HPN    0.403976\n",
       "ELP    0.405634\n",
       "RNO    0.405838\n",
       "JFK    0.407229\n",
       "SAT    0.407607\n",
       "DAL    0.408438\n",
       "ABQ    0.408784\n",
       "LGA    0.415328\n",
       "FLL    0.418183\n",
       "MVY    0.418803\n",
       "HOU    0.422547\n",
       "SJU    0.426686\n",
       "SFO    0.430578\n",
       "OTH    0.431111\n",
       "OAK    0.431877\n",
       "PBG    0.434426\n",
       "ACY    0.442245\n",
       "ISP    0.451893\n",
       "BQN    0.547876\n",
       "SWF    0.574861\n",
       "PSE    0.579114\n",
       "GUM    0.704380\n",
       "Name: cat_response, dtype: float64"
      ]
     },
     "execution_count": 32,
     "metadata": {},
     "output_type": "execute_result"
    }
   ],
   "source": [
    "# DEST\n",
    "flights_all.groupby('DEST').cat_response.mean().sort_values()"
   ]
  },
  {
   "cell_type": "code",
   "execution_count": 33,
   "metadata": {
    "collapsed": false
   },
   "outputs": [
    {
     "data": {
      "text/plain": [
       "<matplotlib.axes._subplots.AxesSubplot at 0x118263d90>"
      ]
     },
     "execution_count": 33,
     "metadata": {},
     "output_type": "execute_result"
    },
    {
     "data": {
      "image/png": "[encoded data removed]",
      "text/plain": [
       "<matplotlib.figure.Figure at 0x118cfb110>"
      ]
     },
     "metadata": {},
     "output_type": "display_data"
    }
   ],
   "source": [
    "# DEST_STATE_ABR\n",
    "flights_all.groupby('DEST_STATE_ABR').cat_response.mean().plot(kind='bar',figsize=(10,5))"
   ]
  },
  {
   "cell_type": "code",
   "execution_count": 34,
   "metadata": {
    "collapsed": false
   },
   "outputs": [
    {
     "data": {
      "text/plain": [
       "<matplotlib.axes._subplots.AxesSubplot at 0x11915a650>"
      ]
     },
     "execution_count": 34,
     "metadata": {},
     "output_type": "execute_result"
    },
    {
     "data": {
      "image/png": "[encoded data removed]",
      "text/plain": [
       "<matplotlib.figure.Figure at 0x1183d7490>"
      ]
     },
     "metadata": {},
     "output_type": "display_data"
    }
   ],
   "source": [
    "# CRS_DEP_TIME\n",
    "flights_all.groupby('CRS_DEP_TIME').cat_response.mean().plot()"
   ]
  },
  {
   "cell_type": "code",
   "execution_count": 35,
   "metadata": {
    "collapsed": false
   },
   "outputs": [
    {
     "data": {
      "text/plain": [
       "<matplotlib.axes._subplots.AxesSubplot at 0x1191e40d0>"
      ]
     },
     "execution_count": 35,
     "metadata": {},
     "output_type": "execute_result"
    },
    {
     "data": {
      "image/png": "[encoded data removed]",
      "text/plain": [
       "<matplotlib.figure.Figure at 0x118378450>"
      ]
     },
     "metadata": {},
     "output_type": "display_data"
    }
   ],
   "source": [
    "# DEP_TIME_BLK\n",
    "flights_all.groupby('DEP_TIME_BLK').cat_response.mean().plot(kind='bar',figsize=(10,5))"
   ]
  },
  {
   "cell_type": "code",
   "execution_count": 36,
   "metadata": {
    "collapsed": false
   },
   "outputs": [
    {
     "data": {
      "text/plain": [
       "<matplotlib.axes._subplots.AxesSubplot at 0x119606250>"
      ]
     },
     "execution_count": 36,
     "metadata": {},
     "output_type": "execute_result"
    },
    {
     "data": {
      "image/png": "[encoded data removed]",
      "text/plain": [
       "<matplotlib.figure.Figure at 0x118f46d50>"
      ]
     },
     "metadata": {},
     "output_type": "display_data"
    }
   ],
   "source": [
    "# CRS_ARR_TIME\n",
    "flights_all.groupby('CRS_ARR_TIME').cat_response.mean().plot()"
   ]
  },
  {
   "cell_type": "code",
   "execution_count": 37,
   "metadata": {
    "collapsed": false
   },
   "outputs": [
    {
     "data": {
      "text/plain": [
       "<matplotlib.axes._subplots.AxesSubplot at 0x119631c50>"
      ]
     },
     "execution_count": 37,
     "metadata": {},
     "output_type": "execute_result"
    },
    {
     "data": {
      "image/png": "[encoded data removed]",
      "text/plain": [
       "<matplotlib.figure.Figure at 0x118d1c3d0>"
      ]
     },
     "metadata": {},
     "output_type": "display_data"
    }
   ],
   "source": [
    "# ARR_TIME_BLK\n",
    "flights_all.groupby('ARR_TIME_BLK').cat_response.mean().plot(kind='bar',figsize=(10,5))"
   ]
  },
  {
   "cell_type": "code",
   "execution_count": 38,
   "metadata": {
    "collapsed": false
   },
   "outputs": [
    {
     "data": {
      "text/plain": [
       "<matplotlib.axes._subplots.AxesSubplot at 0x1186b2810>"
      ]
     },
     "execution_count": 38,
     "metadata": {},
     "output_type": "execute_result"
    },
    {
     "data": {
      "image/png": "[encoded data removed]",
      "text/plain": [
       "<matplotlib.figure.Figure at 0x119650d50>"
      ]
     },
     "metadata": {},
     "output_type": "display_data"
    }
   ],
   "source": [
    "# CRS_ELAPSED_TIME\n",
    "flights_all.groupby('CRS_ELAPSED_TIME').cat_response.mean().plot()"
   ]
  },
  {
   "cell_type": "code",
   "execution_count": 39,
   "metadata": {
    "collapsed": false
   },
   "outputs": [
    {
     "data": {
      "text/plain": [
       "FLIGHTS\n",
       "1.0    0.346794\n",
       "Name: cat_response, dtype: float64"
      ]
     },
     "execution_count": 39,
     "metadata": {},
     "output_type": "execute_result"
    }
   ],
   "source": [
    "# FLIGHTS\n",
    "flights_all.groupby('FLIGHTS').cat_response.mean()"
   ]
  },
  {
   "cell_type": "code",
   "execution_count": 40,
   "metadata": {
    "collapsed": false
   },
   "outputs": [
    {
     "data": {
      "text/plain": [
       "<matplotlib.axes._subplots.AxesSubplot at 0x11870c690>"
      ]
     },
     "execution_count": 40,
     "metadata": {},
     "output_type": "execute_result"
    },
    {
     "data": {
      "image/png": "[encoded data removed]",
      "text/plain": [
       "<matplotlib.figure.Figure at 0x118f46650>"
      ]
     },
     "metadata": {},
     "output_type": "display_data"
    }
   ],
   "source": [
    "# DISTANCE good\n",
    "flights_all.groupby('DISTANCE').cat_response.mean().plot()"
   ]
  },
  {
   "cell_type": "code",
   "execution_count": 41,
   "metadata": {
    "collapsed": false
   },
   "outputs": [
    {
     "data": {
      "text/plain": [
       "<matplotlib.axes._subplots.AxesSubplot at 0x118963510>"
      ]
     },
     "execution_count": 41,
     "metadata": {},
     "output_type": "execute_result"
    },
    {
     "data": {
      "image/png": "[encoded data removed]",
      "text/plain": [
       "<matplotlib.figure.Figure at 0x118905d90>"
      ]
     },
     "metadata": {},
     "output_type": "display_data"
    }
   ],
   "source": [
    "# DISTANCE_GROUP\n",
    "flights_all.groupby('DISTANCE_GROUP').cat_response.mean().plot(kind='bar',figsize=(10,5))"
   ]
  },
  {
   "cell_type": "code",
   "execution_count": 42,
   "metadata": {
    "collapsed": false
   },
   "outputs": [
    {
     "data": {
      "text/plain": [
       "<matplotlib.axes._subplots.AxesSubplot at 0x1186b2e10>"
      ]
     },
     "execution_count": 42,
     "metadata": {},
     "output_type": "execute_result"
    },
    {
     "data": {
      "image/png": "[encoded data removed]",
      "text/plain": [
       "<matplotlib.figure.Figure at 0x1189cf6d0>"
      ]
     },
     "metadata": {},
     "output_type": "display_data"
    }
   ],
   "source": [
    "# FL_DATE\n",
    "flights_all.groupby('FL_DATE').cat_response.mean().plot()"
   ]
  },
  {
   "cell_type": "code",
   "execution_count": 43,
   "metadata": {
    "collapsed": false
   },
   "outputs": [],
   "source": [
    "# create dummies for good categorical features\n",
    "\n",
    "# UNIQUE_CARRIER\n",
    "carrier_all = pd.get_dummies(flights_all['UNIQUE_CARRIER'], prefix='C', prefix_sep='_')"
   ]
  },
  {
   "cell_type": "code",
   "execution_count": 44,
   "metadata": {
    "collapsed": false
   },
   "outputs": [],
   "source": [
    "carrier_all.drop(['C_F9'], axis=1, inplace=True)"
   ]
  },
  {
   "cell_type": "code",
   "execution_count": 45,
   "metadata": {
    "collapsed": true
   },
   "outputs": [],
   "source": [
    "carrier_all=carrier_all.to_sparse(fill_value=0);"
   ]
  },
  {
   "cell_type": "code",
   "execution_count": 46,
   "metadata": {
    "collapsed": false
   },
   "outputs": [
    {
     "name": "stdout",
     "output_type": "stream",
     "text": [
      "<class 'pandas.sparse.frame.SparseDataFrame'>\n",
      "Int64Index: 4169519 entries, 0 to 4233144\n",
      "Data columns (total 11 columns):\n",
      "C_AA    float64\n",
      "C_AS    float64\n",
      "C_B6    float64\n",
      "C_DL    float64\n",
      "C_EV    float64\n",
      "C_HA    float64\n",
      "C_NK    float64\n",
      "C_OO    float64\n",
      "C_UA    float64\n",
      "C_VX    float64\n",
      "C_WN    float64\n",
      "dtypes: float64(11)\n",
      "memory usage: 63.1 MB\n"
     ]
    }
   ],
   "source": [
    "carrier_all.info()"
   ]
  },
  {
   "cell_type": "code",
   "execution_count": 47,
   "metadata": {
    "collapsed": true
   },
   "outputs": [],
   "source": [
    "# ORIGIN\n",
    "org_all = pd.get_dummies(flights_all['ORIGIN'], prefix='ORG', prefix_sep='_')"
   ]
  },
  {
   "cell_type": "code",
   "execution_count": 48,
   "metadata": {
    "collapsed": false
   },
   "outputs": [],
   "source": [
    "org_all.drop(['ORG_ABE'], axis=1, inplace=True)"
   ]
  },
  {
   "cell_type": "code",
   "execution_count": 49,
   "metadata": {
    "collapsed": false
   },
   "outputs": [],
   "source": [
    "org_all=org_all.to_sparse(fill_value=0);"
   ]
  },
  {
   "cell_type": "code",
   "execution_count": 50,
   "metadata": {
    "collapsed": false
   },
   "outputs": [
    {
     "name": "stdout",
     "output_type": "stream",
     "text": [
      "<class 'pandas.sparse.frame.SparseDataFrame'>\n",
      "Int64Index: 4169519 entries, 0 to 4233144\n",
      "Columns: 308 entries, ORG_ABI to ORG_YUM\n",
      "dtypes: float64(308)\n",
      "memory usage: 63.6 MB\n"
     ]
    }
   ],
   "source": [
    "org_all.info()"
   ]
  },
  {
   "cell_type": "code",
   "execution_count": 51,
   "metadata": {
    "collapsed": true
   },
   "outputs": [],
   "source": [
    "# ORIGIN_STATE_ABR\n",
    "org_st_all = pd.get_dummies(flights_all['ORIGIN_STATE_ABR'], prefix='ORG_ST', prefix_sep='_')"
   ]
  },
  {
   "cell_type": "code",
   "execution_count": 52,
   "metadata": {
    "collapsed": false
   },
   "outputs": [],
   "source": [
    "org_st_all.drop(['ORG_ST_AK'], axis=1, inplace=True)\n",
    "org_st_all=org_st_all.to_sparse(fill_value=0)"
   ]
  },
  {
   "cell_type": "code",
   "execution_count": 53,
   "metadata": {
    "collapsed": true
   },
   "outputs": [],
   "source": [
    "# DEST\n",
    "dest_all = pd.get_dummies(flights_all['DEST'], prefix='DEST', prefix_sep='_')"
   ]
  },
  {
   "cell_type": "code",
   "execution_count": 54,
   "metadata": {
    "collapsed": false
   },
   "outputs": [],
   "source": [
    "dest_all.drop(['DEST_ABE'], axis=1, inplace=True)\n",
    "dest_all=dest_all.to_sparse(fill_value=0)"
   ]
  },
  {
   "cell_type": "code",
   "execution_count": 55,
   "metadata": {
    "collapsed": true
   },
   "outputs": [],
   "source": [
    "# DEST_STATE_ABR\n",
    "dest_st_all = pd.get_dummies(flights_all['DEST_STATE_ABR'], prefix='DEST_ST', prefix_sep='_')"
   ]
  },
  {
   "cell_type": "code",
   "execution_count": 56,
   "metadata": {
    "collapsed": false
   },
   "outputs": [],
   "source": [
    "dest_st_all.drop(['DEST_ST_AK'], axis=1, inplace=True)\n",
    "dest_st_all=dest_st_all.to_sparse(fill_value=0)"
   ]
  },
  {
   "cell_type": "code",
   "execution_count": 57,
   "metadata": {
    "collapsed": true
   },
   "outputs": [],
   "source": [
    "# DEP_TIME_BLK\n",
    "dep_blk_all = pd.get_dummies(flights_all['DEP_TIME_BLK'], prefix='DEP_BLK', prefix_sep='_')"
   ]
  },
  {
   "cell_type": "code",
   "execution_count": 58,
   "metadata": {
    "collapsed": false
   },
   "outputs": [],
   "source": [
    "dep_blk_all.drop(['DEP_BLK_0600-0659'], axis=1, inplace=True)\n",
    "dep_blk_all=dep_blk_all.to_sparse(fill_value=0)"
   ]
  },
  {
   "cell_type": "code",
   "execution_count": 59,
   "metadata": {
    "collapsed": true
   },
   "outputs": [],
   "source": [
    "# ARR_TIME_BLK\n",
    "arr_blk_all = pd.get_dummies(flights_all['ARR_TIME_BLK'], prefix='ARR_BLK', prefix_sep='_')"
   ]
  },
  {
   "cell_type": "code",
   "execution_count": 60,
   "metadata": {
    "collapsed": false
   },
   "outputs": [],
   "source": [
    "arr_blk_all.drop(['ARR_BLK_0600-0659'], axis=1, inplace=True)\n",
    "arr_blk_all=arr_blk_all.to_sparse(fill_value=0)"
   ]
  },
  {
   "cell_type": "code",
   "execution_count": 61,
   "metadata": {
    "collapsed": false
   },
   "outputs": [],
   "source": [
    "# DAY_OF_WEEK\n",
    "week_day_all = pd.get_dummies(flights_all['DAY_OF_WEEK'], prefix='WEEK_DAY', prefix_sep='_')"
   ]
  },
  {
   "cell_type": "code",
   "execution_count": 62,
   "metadata": {
    "collapsed": false
   },
   "outputs": [],
   "source": [
    "week_day_all.drop(['WEEK_DAY_1'], axis=1, inplace=True)\n",
    "week_day_all=week_day_all.to_sparse(fill_value=0)"
   ]
  },
  {
   "cell_type": "code",
   "execution_count": 63,
   "metadata": {
    "collapsed": false
   },
   "outputs": [],
   "source": [
    "# concat numerical features and dummies\n",
    "flt_X = pd.concat([flights_all.QUARTER,flights_all.MONTH,flights_all.DAY_OF_WEEK,flights_all.DISTANCE_GROUP, carrier_all, org_all, dest_all, org_st_all, dest_st_all, dep_blk_all, arr_blk_all], axis=1)"
   ]
  },
  {
   "cell_type": "code",
   "execution_count": 64,
   "metadata": {
    "collapsed": true
   },
   "outputs": [],
   "source": [
    "flt_y = flights_all.cat_response"
   ]
  },
  {
   "cell_type": "code",
   "execution_count": 65,
   "metadata": {
    "collapsed": false
   },
   "outputs": [
    {
     "data": {
      "text/plain": [
       "0.3467944383992494"
      ]
     },
     "execution_count": 65,
     "metadata": {},
     "output_type": "execute_result"
    }
   ],
   "source": [
    "flt_y.mean()"
   ]
  },
  {
   "cell_type": "code",
   "execution_count": 66,
   "metadata": {
    "collapsed": false
   },
   "outputs": [
    {
     "name": "stdout",
     "output_type": "stream",
     "text": [
      "<class 'pandas.sparse.frame.SparseDataFrame'>\n",
      "Int64Index: 4169519 entries, 0 to 4233144\n",
      "Columns: 768 entries, QUARTER to ARR_BLK_2300-2359\n",
      "dtypes: float64(768)\n",
      "memory usage: 378.0 MB\n"
     ]
    }
   ],
   "source": [
    "flt_X.info()"
   ]
  },
  {
   "cell_type": "code",
   "execution_count": 67,
   "metadata": {
    "collapsed": false
   },
   "outputs": [
    {
     "data": {
      "text/html": [
       "<div>\n",
       "<table border=\"1\" class=\"dataframe\">\n",
       "  <thead>\n",
       "    <tr style=\"text-align: right;\">\n",
       "      <th></th>\n",
       "      <th>QUARTER</th>\n",
       "      <th>MONTH</th>\n",
       "      <th>DAY_OF_WEEK</th>\n",
       "      <th>DISTANCE_GROUP</th>\n",
       "      <th>C_AA</th>\n",
       "      <th>C_AS</th>\n",
       "      <th>C_B6</th>\n",
       "      <th>C_DL</th>\n",
       "      <th>C_EV</th>\n",
       "      <th>C_HA</th>\n",
       "      <th>...</th>\n",
       "      <th>ARR_BLK_1400-1459</th>\n",
       "      <th>ARR_BLK_1500-1559</th>\n",
       "      <th>ARR_BLK_1600-1659</th>\n",
       "      <th>ARR_BLK_1700-1759</th>\n",
       "      <th>ARR_BLK_1800-1859</th>\n",
       "      <th>ARR_BLK_1900-1959</th>\n",
       "      <th>ARR_BLK_2000-2059</th>\n",
       "      <th>ARR_BLK_2100-2159</th>\n",
       "      <th>ARR_BLK_2200-2259</th>\n",
       "      <th>ARR_BLK_2300-2359</th>\n",
       "    </tr>\n",
       "  </thead>\n",
       "  <tbody>\n",
       "    <tr>\n",
       "      <th>0</th>\n",
       "      <td>1.0</td>\n",
       "      <td>1.0</td>\n",
       "      <td>2.0</td>\n",
       "      <td>2.0</td>\n",
       "      <td>0.0</td>\n",
       "      <td>0.0</td>\n",
       "      <td>0.0</td>\n",
       "      <td>1.0</td>\n",
       "      <td>0.0</td>\n",
       "      <td>0.0</td>\n",
       "      <td>...</td>\n",
       "      <td>0.0</td>\n",
       "      <td>0.0</td>\n",
       "      <td>0.0</td>\n",
       "      <td>0.0</td>\n",
       "      <td>0.0</td>\n",
       "      <td>0.0</td>\n",
       "      <td>0.0</td>\n",
       "      <td>0.0</td>\n",
       "      <td>0.0</td>\n",
       "      <td>0.0</td>\n",
       "    </tr>\n",
       "    <tr>\n",
       "      <th>1</th>\n",
       "      <td>1.0</td>\n",
       "      <td>1.0</td>\n",
       "      <td>2.0</td>\n",
       "      <td>2.0</td>\n",
       "      <td>0.0</td>\n",
       "      <td>0.0</td>\n",
       "      <td>0.0</td>\n",
       "      <td>1.0</td>\n",
       "      <td>0.0</td>\n",
       "      <td>0.0</td>\n",
       "      <td>...</td>\n",
       "      <td>1.0</td>\n",
       "      <td>0.0</td>\n",
       "      <td>0.0</td>\n",
       "      <td>0.0</td>\n",
       "      <td>0.0</td>\n",
       "      <td>0.0</td>\n",
       "      <td>0.0</td>\n",
       "      <td>0.0</td>\n",
       "      <td>0.0</td>\n",
       "      <td>0.0</td>\n",
       "    </tr>\n",
       "    <tr>\n",
       "      <th>2</th>\n",
       "      <td>1.0</td>\n",
       "      <td>1.0</td>\n",
       "      <td>2.0</td>\n",
       "      <td>9.0</td>\n",
       "      <td>0.0</td>\n",
       "      <td>0.0</td>\n",
       "      <td>0.0</td>\n",
       "      <td>1.0</td>\n",
       "      <td>0.0</td>\n",
       "      <td>0.0</td>\n",
       "      <td>...</td>\n",
       "      <td>0.0</td>\n",
       "      <td>0.0</td>\n",
       "      <td>0.0</td>\n",
       "      <td>0.0</td>\n",
       "      <td>0.0</td>\n",
       "      <td>0.0</td>\n",
       "      <td>0.0</td>\n",
       "      <td>0.0</td>\n",
       "      <td>0.0</td>\n",
       "      <td>0.0</td>\n",
       "    </tr>\n",
       "    <tr>\n",
       "      <th>3</th>\n",
       "      <td>1.0</td>\n",
       "      <td>1.0</td>\n",
       "      <td>2.0</td>\n",
       "      <td>8.0</td>\n",
       "      <td>0.0</td>\n",
       "      <td>0.0</td>\n",
       "      <td>0.0</td>\n",
       "      <td>1.0</td>\n",
       "      <td>0.0</td>\n",
       "      <td>0.0</td>\n",
       "      <td>...</td>\n",
       "      <td>1.0</td>\n",
       "      <td>0.0</td>\n",
       "      <td>0.0</td>\n",
       "      <td>0.0</td>\n",
       "      <td>0.0</td>\n",
       "      <td>0.0</td>\n",
       "      <td>0.0</td>\n",
       "      <td>0.0</td>\n",
       "      <td>0.0</td>\n",
       "      <td>0.0</td>\n",
       "    </tr>\n",
       "    <tr>\n",
       "      <th>4</th>\n",
       "      <td>1.0</td>\n",
       "      <td>1.0</td>\n",
       "      <td>2.0</td>\n",
       "      <td>10.0</td>\n",
       "      <td>0.0</td>\n",
       "      <td>0.0</td>\n",
       "      <td>0.0</td>\n",
       "      <td>1.0</td>\n",
       "      <td>0.0</td>\n",
       "      <td>0.0</td>\n",
       "      <td>...</td>\n",
       "      <td>0.0</td>\n",
       "      <td>0.0</td>\n",
       "      <td>0.0</td>\n",
       "      <td>0.0</td>\n",
       "      <td>0.0</td>\n",
       "      <td>0.0</td>\n",
       "      <td>1.0</td>\n",
       "      <td>0.0</td>\n",
       "      <td>0.0</td>\n",
       "      <td>0.0</td>\n",
       "    </tr>\n",
       "  </tbody>\n",
       "</table>\n",
       "<p>5 rows × 768 columns</p>\n",
       "</div>"
      ],
      "text/plain": [
       "   QUARTER  MONTH  DAY_OF_WEEK  DISTANCE_GROUP  C_AA  C_AS  C_B6  C_DL  C_EV  \\\n",
       "0      1.0    1.0          2.0             2.0   0.0   0.0   0.0   1.0   0.0   \n",
       "1      1.0    1.0          2.0             2.0   0.0   0.0   0.0   1.0   0.0   \n",
       "2      1.0    1.0          2.0             9.0   0.0   0.0   0.0   1.0   0.0   \n",
       "3      1.0    1.0          2.0             8.0   0.0   0.0   0.0   1.0   0.0   \n",
       "4      1.0    1.0          2.0            10.0   0.0   0.0   0.0   1.0   0.0   \n",
       "\n",
       "   C_HA        ...          ARR_BLK_1400-1459  ARR_BLK_1500-1559  \\\n",
       "0   0.0        ...                        0.0                0.0   \n",
       "1   0.0        ...                        1.0                0.0   \n",
       "2   0.0        ...                        0.0                0.0   \n",
       "3   0.0        ...                        1.0                0.0   \n",
       "4   0.0        ...                        0.0                0.0   \n",
       "\n",
       "   ARR_BLK_1600-1659  ARR_BLK_1700-1759  ARR_BLK_1800-1859  ARR_BLK_1900-1959  \\\n",
       "0                0.0                0.0                0.0                0.0   \n",
       "1                0.0                0.0                0.0                0.0   \n",
       "2                0.0                0.0                0.0                0.0   \n",
       "3                0.0                0.0                0.0                0.0   \n",
       "4                0.0                0.0                0.0                0.0   \n",
       "\n",
       "   ARR_BLK_2000-2059  ARR_BLK_2100-2159  ARR_BLK_2200-2259  ARR_BLK_2300-2359  \n",
       "0                0.0                0.0                0.0                0.0  \n",
       "1                0.0                0.0                0.0                0.0  \n",
       "2                0.0                0.0                0.0                0.0  \n",
       "3                0.0                0.0                0.0                0.0  \n",
       "4                1.0                0.0                0.0                0.0  \n",
       "\n",
       "[5 rows x 768 columns]"
      ]
     },
     "execution_count": 67,
     "metadata": {},
     "output_type": "execute_result"
    }
   ],
   "source": [
    "flt_X.head()"
   ]
  },
  {
   "cell_type": "markdown",
   "metadata": {},
   "source": [
    "## Part 3: Modeling"
   ]
  },
  {
   "cell_type": "code",
   "execution_count": 68,
   "metadata": {
    "collapsed": false
   },
   "outputs": [],
   "source": [
    "# split into training and test data sets\n",
    "from sklearn.cross_validation import train_test_split\n",
    "X_train_all, X_test_all, y_train_all, y_test_all = train_test_split(flt_X, flt_y)"
   ]
  },
  {
   "cell_type": "code",
   "execution_count": 69,
   "metadata": {
    "collapsed": false
   },
   "outputs": [
    {
     "data": {
      "text/plain": [
       "0.67996795794240106"
      ]
     },
     "execution_count": 69,
     "metadata": {},
     "output_type": "execute_result"
    }
   ],
   "source": [
    "# fit a classification tree with max_depth=30 on all data\n",
    "from sklearn.tree import DecisionTreeClassifier\n",
    "treeclf = DecisionTreeClassifier(max_depth=30, random_state=1)\n",
    "treeclf.fit(X_train_all, y_train_all)\n",
    "y_pred = treeclf.predict(X_test_all)\n",
    "\n",
    "from sklearn import metrics\n",
    "metrics.accuracy_score(y_test_all, y_pred)"
   ]
  },
  {
   "cell_type": "code",
   "execution_count": 70,
   "metadata": {
    "collapsed": false
   },
   "outputs": [],
   "source": [
    "# fit a random forest classifier\n",
    "from sklearn.ensemble import RandomForestClassifier\n",
    "rfcl = RandomForestClassifier(max_depth=30)"
   ]
  },
  {
   "cell_type": "code",
   "execution_count": 71,
   "metadata": {
    "collapsed": false
   },
   "outputs": [
    {
     "data": {
      "text/plain": [
       "RandomForestClassifier(bootstrap=True, class_weight=None, criterion='gini',\n",
       "            max_depth=30, max_features='auto', max_leaf_nodes=None,\n",
       "            min_samples_leaf=1, min_samples_split=2,\n",
       "            min_weight_fraction_leaf=0.0, n_estimators=10, n_jobs=1,\n",
       "            oob_score=False, random_state=None, verbose=0,\n",
       "            warm_start=False)"
      ]
     },
     "execution_count": 71,
     "metadata": {},
     "output_type": "execute_result"
    }
   ],
   "source": [
    "rfcl"
   ]
  },
  {
   "cell_type": "code",
   "execution_count": 72,
   "metadata": {
    "collapsed": true
   },
   "outputs": [],
   "source": [
    "rfcl.fit(X_train_all, y_train_all)\n",
    "y_pred = rfcl.predict(X_test_all)"
   ]
  },
  {
   "cell_type": "code",
   "execution_count": 73,
   "metadata": {
    "collapsed": false
   },
   "outputs": [
    {
     "data": {
      "text/plain": [
       "0.68332278055987261"
      ]
     },
     "execution_count": 73,
     "metadata": {},
     "output_type": "execute_result"
    }
   ],
   "source": [
    "metrics.accuracy_score(y_test_all, y_pred)"
   ]
  },
  {
   "cell_type": "code",
   "execution_count": 78,
   "metadata": {
    "collapsed": false
   },
   "outputs": [
    {
     "name": "stdout",
     "output_type": "stream",
     "text": [
      "0.685686170492\n"
     ]
    }
   ],
   "source": [
    "# calculate AUC\n",
    "y_pred_prob = rfcl.predict_proba(X_test_all)[:, 1]\n",
    "print metrics.roc_auc_score(y_test_all, y_pred_prob)"
   ]
  },
  {
   "cell_type": "code",
   "execution_count": 74,
   "metadata": {
    "collapsed": false
   },
   "outputs": [
    {
     "data": {
      "text/html": [
       "<div>\n",
       "<table border=\"1\" class=\"dataframe\">\n",
       "  <thead>\n",
       "    <tr style=\"text-align: right;\">\n",
       "      <th>Predicted</th>\n",
       "      <th>0</th>\n",
       "      <th>1</th>\n",
       "      <th>All</th>\n",
       "    </tr>\n",
       "    <tr>\n",
       "      <th>True</th>\n",
       "      <th></th>\n",
       "      <th></th>\n",
       "      <th></th>\n",
       "    </tr>\n",
       "  </thead>\n",
       "  <tbody>\n",
       "    <tr>\n",
       "      <th>0</th>\n",
       "      <td>631180</td>\n",
       "      <td>49576</td>\n",
       "      <td>680756</td>\n",
       "    </tr>\n",
       "    <tr>\n",
       "      <th>1</th>\n",
       "      <td>280522</td>\n",
       "      <td>81102</td>\n",
       "      <td>361624</td>\n",
       "    </tr>\n",
       "    <tr>\n",
       "      <th>All</th>\n",
       "      <td>911702</td>\n",
       "      <td>130678</td>\n",
       "      <td>1042380</td>\n",
       "    </tr>\n",
       "  </tbody>\n",
       "</table>\n",
       "</div>"
      ],
      "text/plain": [
       "Predicted       0       1      All\n",
       "True                              \n",
       "0          631180   49576   680756\n",
       "1          280522   81102   361624\n",
       "All        911702  130678  1042380"
      ]
     },
     "execution_count": 74,
     "metadata": {},
     "output_type": "execute_result"
    }
   ],
   "source": [
    "# confusion matrix\n",
    "pd.crosstab(y_test_all, y_pred, rownames=['True'], colnames=['Predicted'], margins=True)"
   ]
  },
  {
   "cell_type": "code",
   "execution_count": 75,
   "metadata": {
    "collapsed": true
   },
   "outputs": [],
   "source": [
    "rf_feats = pd.DataFrame({'feature':flt_X.columns, 'importance':rfcl.feature_importances_}).sort_values(by='importance', ascending=False)"
   ]
  },
  {
   "cell_type": "code",
   "execution_count": 76,
   "metadata": {
    "collapsed": false
   },
   "outputs": [
    {
     "data": {
      "text/html": [
       "<div>\n",
       "<table border=\"1\" class=\"dataframe\">\n",
       "  <thead>\n",
       "    <tr style=\"text-align: right;\">\n",
       "      <th></th>\n",
       "      <th>feature</th>\n",
       "      <th>importance</th>\n",
       "    </tr>\n",
       "  </thead>\n",
       "  <tbody>\n",
       "    <tr>\n",
       "      <th>2</th>\n",
       "      <td>DAY_OF_WEEK</td>\n",
       "      <td>2.267842e-01</td>\n",
       "    </tr>\n",
       "    <tr>\n",
       "      <th>1</th>\n",
       "      <td>MONTH</td>\n",
       "      <td>1.440567e-01</td>\n",
       "    </tr>\n",
       "    <tr>\n",
       "      <th>14</th>\n",
       "      <td>C_WN</td>\n",
       "      <td>4.143234e-02</td>\n",
       "    </tr>\n",
       "    <tr>\n",
       "      <th>0</th>\n",
       "      <td>QUARTER</td>\n",
       "      <td>3.268736e-02</td>\n",
       "    </tr>\n",
       "    <tr>\n",
       "      <th>752</th>\n",
       "      <td>ARR_BLK_0800-0859</td>\n",
       "      <td>2.644246e-02</td>\n",
       "    </tr>\n",
       "    <tr>\n",
       "      <th>3</th>\n",
       "      <td>DISTANCE_GROUP</td>\n",
       "      <td>2.593511e-02</td>\n",
       "    </tr>\n",
       "    <tr>\n",
       "      <th>751</th>\n",
       "      <td>ARR_BLK_0700-0759</td>\n",
       "      <td>2.242183e-02</td>\n",
       "    </tr>\n",
       "    <tr>\n",
       "      <th>733</th>\n",
       "      <td>DEP_BLK_0700-0759</td>\n",
       "      <td>1.998169e-02</td>\n",
       "    </tr>\n",
       "    <tr>\n",
       "      <th>753</th>\n",
       "      <td>ARR_BLK_0900-0959</td>\n",
       "      <td>1.991825e-02</td>\n",
       "    </tr>\n",
       "    <tr>\n",
       "      <th>11</th>\n",
       "      <td>C_OO</td>\n",
       "      <td>1.776410e-02</td>\n",
       "    </tr>\n",
       "    <tr>\n",
       "      <th>734</th>\n",
       "      <td>DEP_BLK_0800-0859</td>\n",
       "      <td>1.483714e-02</td>\n",
       "    </tr>\n",
       "    <tr>\n",
       "      <th>754</th>\n",
       "      <td>ARR_BLK_1000-1059</td>\n",
       "      <td>1.275222e-02</td>\n",
       "    </tr>\n",
       "    <tr>\n",
       "      <th>732</th>\n",
       "      <td>DEP_BLK_0001-0559</td>\n",
       "      <td>1.173835e-02</td>\n",
       "    </tr>\n",
       "    <tr>\n",
       "      <th>5</th>\n",
       "      <td>C_AS</td>\n",
       "      <td>1.130376e-02</td>\n",
       "    </tr>\n",
       "    <tr>\n",
       "      <th>765</th>\n",
       "      <td>ARR_BLK_2100-2159</td>\n",
       "      <td>9.817056e-03</td>\n",
       "    </tr>\n",
       "    <tr>\n",
       "      <th>745</th>\n",
       "      <td>DEP_BLK_1900-1959</td>\n",
       "      <td>9.403468e-03</td>\n",
       "    </tr>\n",
       "    <tr>\n",
       "      <th>8</th>\n",
       "      <td>C_EV</td>\n",
       "      <td>8.648361e-03</td>\n",
       "    </tr>\n",
       "    <tr>\n",
       "      <th>182</th>\n",
       "      <td>ORG_LAX</td>\n",
       "      <td>7.736652e-03</td>\n",
       "    </tr>\n",
       "    <tr>\n",
       "      <th>762</th>\n",
       "      <td>ARR_BLK_1800-1859</td>\n",
       "      <td>7.675148e-03</td>\n",
       "    </tr>\n",
       "    <tr>\n",
       "      <th>767</th>\n",
       "      <td>ARR_BLK_2300-2359</td>\n",
       "      <td>7.272712e-03</td>\n",
       "    </tr>\n",
       "    <tr>\n",
       "      <th>7</th>\n",
       "      <td>C_DL</td>\n",
       "      <td>7.234996e-03</td>\n",
       "    </tr>\n",
       "    <tr>\n",
       "      <th>742</th>\n",
       "      <td>DEP_BLK_1600-1659</td>\n",
       "      <td>7.141268e-03</td>\n",
       "    </tr>\n",
       "    <tr>\n",
       "      <th>746</th>\n",
       "      <td>DEP_BLK_2000-2059</td>\n",
       "      <td>6.635306e-03</td>\n",
       "    </tr>\n",
       "    <tr>\n",
       "      <th>684</th>\n",
       "      <td>DEST_ST_CA</td>\n",
       "      <td>6.317545e-03</td>\n",
       "    </tr>\n",
       "    <tr>\n",
       "      <th>744</th>\n",
       "      <td>DEP_BLK_1800-1859</td>\n",
       "      <td>6.267238e-03</td>\n",
       "    </tr>\n",
       "    <tr>\n",
       "      <th>764</th>\n",
       "      <td>ARR_BLK_2000-2059</td>\n",
       "      <td>6.162297e-03</td>\n",
       "    </tr>\n",
       "    <tr>\n",
       "      <th>755</th>\n",
       "      <td>ARR_BLK_1100-1159</td>\n",
       "      <td>6.156395e-03</td>\n",
       "    </tr>\n",
       "    <tr>\n",
       "      <th>743</th>\n",
       "      <td>DEP_BLK_1700-1759</td>\n",
       "      <td>6.075945e-03</td>\n",
       "    </tr>\n",
       "    <tr>\n",
       "      <th>761</th>\n",
       "      <td>ARR_BLK_1700-1759</td>\n",
       "      <td>6.031168e-03</td>\n",
       "    </tr>\n",
       "    <tr>\n",
       "      <th>12</th>\n",
       "      <td>C_UA</td>\n",
       "      <td>6.006112e-03</td>\n",
       "    </tr>\n",
       "    <tr>\n",
       "      <th>...</th>\n",
       "      <td>...</td>\n",
       "      <td>...</td>\n",
       "    </tr>\n",
       "    <tr>\n",
       "      <th>462</th>\n",
       "      <td>DEST_HYS</td>\n",
       "      <td>2.192307e-06</td>\n",
       "    </tr>\n",
       "    <tr>\n",
       "      <th>532</th>\n",
       "      <td>DEST_MVY</td>\n",
       "      <td>2.175767e-06</td>\n",
       "    </tr>\n",
       "    <tr>\n",
       "      <th>154</th>\n",
       "      <td>ORG_HYA</td>\n",
       "      <td>2.130935e-06</td>\n",
       "    </tr>\n",
       "    <tr>\n",
       "      <th>559</th>\n",
       "      <td>DEST_PPG</td>\n",
       "      <td>2.019812e-06</td>\n",
       "    </tr>\n",
       "    <tr>\n",
       "      <th>434</th>\n",
       "      <td>DEST_GCK</td>\n",
       "      <td>1.701759e-06</td>\n",
       "    </tr>\n",
       "    <tr>\n",
       "      <th>607</th>\n",
       "      <td>DEST_STX</td>\n",
       "      <td>1.592199e-06</td>\n",
       "    </tr>\n",
       "    <tr>\n",
       "      <th>108</th>\n",
       "      <td>ORG_ERI</td>\n",
       "      <td>1.524476e-06</td>\n",
       "    </tr>\n",
       "    <tr>\n",
       "      <th>323</th>\n",
       "      <td>DEST_ABI</td>\n",
       "      <td>1.439004e-06</td>\n",
       "    </tr>\n",
       "    <tr>\n",
       "      <th>47</th>\n",
       "      <td>ORG_BJI</td>\n",
       "      <td>1.432033e-06</td>\n",
       "    </tr>\n",
       "    <tr>\n",
       "      <th>173</th>\n",
       "      <td>ORG_JLN</td>\n",
       "      <td>1.415520e-06</td>\n",
       "    </tr>\n",
       "    <tr>\n",
       "      <th>382</th>\n",
       "      <td>DEST_CIU</td>\n",
       "      <td>1.400971e-06</td>\n",
       "    </tr>\n",
       "    <tr>\n",
       "      <th>335</th>\n",
       "      <td>DEST_AKN</td>\n",
       "      <td>1.394753e-06</td>\n",
       "    </tr>\n",
       "    <tr>\n",
       "      <th>247</th>\n",
       "      <td>ORG_PIB</td>\n",
       "      <td>1.359972e-06</td>\n",
       "    </tr>\n",
       "    <tr>\n",
       "      <th>501</th>\n",
       "      <td>DEST_LSE</td>\n",
       "      <td>1.263756e-06</td>\n",
       "    </tr>\n",
       "    <tr>\n",
       "      <th>544</th>\n",
       "      <td>DEST_OTH</td>\n",
       "      <td>1.186524e-06</td>\n",
       "    </tr>\n",
       "    <tr>\n",
       "      <th>312</th>\n",
       "      <td>ORG_TXK</td>\n",
       "      <td>1.148222e-06</td>\n",
       "    </tr>\n",
       "    <tr>\n",
       "      <th>162</th>\n",
       "      <td>ORG_IMT</td>\n",
       "      <td>8.395732e-07</td>\n",
       "    </tr>\n",
       "    <tr>\n",
       "      <th>546</th>\n",
       "      <td>DEST_PAH</td>\n",
       "      <td>5.291068e-07</td>\n",
       "    </tr>\n",
       "    <tr>\n",
       "      <th>408</th>\n",
       "      <td>DEST_DVL</td>\n",
       "      <td>3.936444e-07</td>\n",
       "    </tr>\n",
       "    <tr>\n",
       "      <th>15</th>\n",
       "      <td>ORG_ABI</td>\n",
       "      <td>3.658292e-07</td>\n",
       "    </tr>\n",
       "    <tr>\n",
       "      <th>130</th>\n",
       "      <td>ORG_GGG</td>\n",
       "      <td>3.283894e-07</td>\n",
       "    </tr>\n",
       "    <tr>\n",
       "      <th>27</th>\n",
       "      <td>ORG_AKN</td>\n",
       "      <td>1.774322e-07</td>\n",
       "    </tr>\n",
       "    <tr>\n",
       "      <th>252</th>\n",
       "      <td>ORG_PPG</td>\n",
       "      <td>1.322729e-07</td>\n",
       "    </tr>\n",
       "    <tr>\n",
       "      <th>447</th>\n",
       "      <td>DEST_GST</td>\n",
       "      <td>1.238005e-07</td>\n",
       "    </tr>\n",
       "    <tr>\n",
       "      <th>331</th>\n",
       "      <td>DEST_ADK</td>\n",
       "      <td>6.677675e-08</td>\n",
       "    </tr>\n",
       "    <tr>\n",
       "      <th>140</th>\n",
       "      <td>ORG_GST</td>\n",
       "      <td>2.519049e-08</td>\n",
       "    </tr>\n",
       "    <tr>\n",
       "      <th>403</th>\n",
       "      <td>DEST_DLG</td>\n",
       "      <td>1.919469e-09</td>\n",
       "    </tr>\n",
       "    <tr>\n",
       "      <th>207</th>\n",
       "      <td>ORG_MHK</td>\n",
       "      <td>0.000000e+00</td>\n",
       "    </tr>\n",
       "    <tr>\n",
       "      <th>103</th>\n",
       "      <td>ORG_EFD</td>\n",
       "      <td>0.000000e+00</td>\n",
       "    </tr>\n",
       "    <tr>\n",
       "      <th>514</th>\n",
       "      <td>DEST_MHK</td>\n",
       "      <td>0.000000e+00</td>\n",
       "    </tr>\n",
       "  </tbody>\n",
       "</table>\n",
       "<p>768 rows × 2 columns</p>\n",
       "</div>"
      ],
      "text/plain": [
       "               feature    importance\n",
       "2          DAY_OF_WEEK  2.267842e-01\n",
       "1                MONTH  1.440567e-01\n",
       "14                C_WN  4.143234e-02\n",
       "0              QUARTER  3.268736e-02\n",
       "752  ARR_BLK_0800-0859  2.644246e-02\n",
       "3       DISTANCE_GROUP  2.593511e-02\n",
       "751  ARR_BLK_0700-0759  2.242183e-02\n",
       "733  DEP_BLK_0700-0759  1.998169e-02\n",
       "753  ARR_BLK_0900-0959  1.991825e-02\n",
       "11                C_OO  1.776410e-02\n",
       "734  DEP_BLK_0800-0859  1.483714e-02\n",
       "754  ARR_BLK_1000-1059  1.275222e-02\n",
       "732  DEP_BLK_0001-0559  1.173835e-02\n",
       "5                 C_AS  1.130376e-02\n",
       "765  ARR_BLK_2100-2159  9.817056e-03\n",
       "745  DEP_BLK_1900-1959  9.403468e-03\n",
       "8                 C_EV  8.648361e-03\n",
       "182            ORG_LAX  7.736652e-03\n",
       "762  ARR_BLK_1800-1859  7.675148e-03\n",
       "767  ARR_BLK_2300-2359  7.272712e-03\n",
       "7                 C_DL  7.234996e-03\n",
       "742  DEP_BLK_1600-1659  7.141268e-03\n",
       "746  DEP_BLK_2000-2059  6.635306e-03\n",
       "684         DEST_ST_CA  6.317545e-03\n",
       "744  DEP_BLK_1800-1859  6.267238e-03\n",
       "764  ARR_BLK_2000-2059  6.162297e-03\n",
       "755  ARR_BLK_1100-1159  6.156395e-03\n",
       "743  DEP_BLK_1700-1759  6.075945e-03\n",
       "761  ARR_BLK_1700-1759  6.031168e-03\n",
       "12                C_UA  6.006112e-03\n",
       "..                 ...           ...\n",
       "462           DEST_HYS  2.192307e-06\n",
       "532           DEST_MVY  2.175767e-06\n",
       "154            ORG_HYA  2.130935e-06\n",
       "559           DEST_PPG  2.019812e-06\n",
       "434           DEST_GCK  1.701759e-06\n",
       "607           DEST_STX  1.592199e-06\n",
       "108            ORG_ERI  1.524476e-06\n",
       "323           DEST_ABI  1.439004e-06\n",
       "47             ORG_BJI  1.432033e-06\n",
       "173            ORG_JLN  1.415520e-06\n",
       "382           DEST_CIU  1.400971e-06\n",
       "335           DEST_AKN  1.394753e-06\n",
       "247            ORG_PIB  1.359972e-06\n",
       "501           DEST_LSE  1.263756e-06\n",
       "544           DEST_OTH  1.186524e-06\n",
       "312            ORG_TXK  1.148222e-06\n",
       "162            ORG_IMT  8.395732e-07\n",
       "546           DEST_PAH  5.291068e-07\n",
       "408           DEST_DVL  3.936444e-07\n",
       "15             ORG_ABI  3.658292e-07\n",
       "130            ORG_GGG  3.283894e-07\n",
       "27             ORG_AKN  1.774322e-07\n",
       "252            ORG_PPG  1.322729e-07\n",
       "447           DEST_GST  1.238005e-07\n",
       "331           DEST_ADK  6.677675e-08\n",
       "140            ORG_GST  2.519049e-08\n",
       "403           DEST_DLG  1.919469e-09\n",
       "207            ORG_MHK  0.000000e+00\n",
       "103            ORG_EFD  0.000000e+00\n",
       "514           DEST_MHK  0.000000e+00\n",
       "\n",
       "[768 rows x 2 columns]"
      ]
     },
     "execution_count": 76,
     "metadata": {},
     "output_type": "execute_result"
    }
   ],
   "source": [
    "rf_feats.sort_values(by='importance', ascending=False)"
   ]
  },
  {
   "cell_type": "code",
   "execution_count": 271,
   "metadata": {
    "collapsed": false,
    "scrolled": true
   },
   "outputs": [
    {
     "name": "stdout",
     "output_type": "stream",
     "text": [
      "0.677620445519\n"
     ]
    }
   ],
   "source": [
    "# fit a logistic model\n",
    "from sklearn.linear_model import LogisticRegression\n",
    "log_reg_all = LogisticRegression(C=1e2)\n",
    "log_reg_all.fit(X_train_all, y_train_all)\n",
    "y_pred_all = log_reg_all.predict(X_test_all)\n",
    "print metrics.accuracy_score(y_test_all, y_pred_all)"
   ]
  },
  {
   "cell_type": "code",
   "execution_count": 272,
   "metadata": {
    "collapsed": false,
    "scrolled": true
   },
   "outputs": [
    {
     "name": "stdout",
     "output_type": "stream",
     "text": [
      "0.675552627274\n"
     ]
    }
   ],
   "source": [
    "# calculate AUC\n",
    "y_pred_prob = log_reg_all.predict_proba(X_test_all)[:, 1]\n",
    "print metrics.roc_auc_score(y_test_all, y_pred_prob)"
   ]
  },
  {
   "cell_type": "code",
   "execution_count": 273,
   "metadata": {
    "collapsed": false
   },
   "outputs": [
    {
     "data": {
      "text/plain": [
       "0.6531370517469637"
      ]
     },
     "execution_count": 273,
     "metadata": {},
     "output_type": "execute_result"
    }
   ],
   "source": [
    "# compare to null accuracy\n",
    "1-y_test_all.mean()"
   ]
  },
  {
   "cell_type": "code",
   "execution_count": 238,
   "metadata": {
    "collapsed": false
   },
   "outputs": [
    {
     "ename": "KeyboardInterrupt",
     "evalue": "",
     "output_type": "error",
     "traceback": [
      "\u001b[0;31m---------------------------------------------------------------------------\u001b[0m",
      "\u001b[0;31mKeyboardInterrupt\u001b[0m                         Traceback (most recent call last)",
      "\u001b[0;32m<ipython-input-238-87d2c56c9318>\u001b[0m in \u001b[0;36m<module>\u001b[0;34m()\u001b[0m\n\u001b[1;32m      3\u001b[0m \u001b[0;32mfor\u001b[0m \u001b[0mvalue\u001b[0m \u001b[0;32min\u001b[0m \u001b[0mfeature_range\u001b[0m\u001b[0;34m:\u001b[0m\u001b[0;34m\u001b[0m\u001b[0m\n\u001b[1;32m      4\u001b[0m     \u001b[0mlog_reg_all\u001b[0m \u001b[0;34m=\u001b[0m \u001b[0mLogisticRegression\u001b[0m\u001b[0;34m(\u001b[0m\u001b[0mC\u001b[0m\u001b[0;34m=\u001b[0m\u001b[0;36m1e2\u001b[0m\u001b[0;34m)\u001b[0m\u001b[0;34m\u001b[0m\u001b[0m\n\u001b[0;32m----> 5\u001b[0;31m     \u001b[0mscores\u001b[0m \u001b[0;34m=\u001b[0m \u001b[0mcross_val_score\u001b[0m\u001b[0;34m(\u001b[0m\u001b[0mlog_reg_all\u001b[0m\u001b[0;34m,\u001b[0m \u001b[0mflt_X\u001b[0m\u001b[0;34m[\u001b[0m\u001b[0mselect_feats\u001b[0m\u001b[0;34m[\u001b[0m\u001b[0;36m0\u001b[0m\u001b[0;34m:\u001b[0m\u001b[0mvalue\u001b[0m\u001b[0;34m]\u001b[0m\u001b[0;34m]\u001b[0m\u001b[0;34m,\u001b[0m \u001b[0mflt_y\u001b[0m\u001b[0;34m,\u001b[0m \u001b[0mcv\u001b[0m\u001b[0;34m=\u001b[0m\u001b[0;36m5\u001b[0m\u001b[0;34m,\u001b[0m \u001b[0mscoring\u001b[0m\u001b[0;34m=\u001b[0m\u001b[0;34m'roc_auc'\u001b[0m\u001b[0;34m)\u001b[0m\u001b[0;34m\u001b[0m\u001b[0m\n\u001b[0m\u001b[1;32m      6\u001b[0m     \u001b[0mlog_scores\u001b[0m\u001b[0;34m.\u001b[0m\u001b[0mappend\u001b[0m\u001b[0;34m(\u001b[0m\u001b[0mnp\u001b[0m\u001b[0;34m.\u001b[0m\u001b[0mmean\u001b[0m\u001b[0;34m(\u001b[0m\u001b[0mscores\u001b[0m\u001b[0;34m)\u001b[0m\u001b[0;34m)\u001b[0m\u001b[0;34m\u001b[0m\u001b[0m\n",
      "\u001b[0;32m/Users/Martin/anaconda2/lib/python2.7/site-packages/sklearn/cross_validation.pyc\u001b[0m in \u001b[0;36mcross_val_score\u001b[0;34m(estimator, X, y, scoring, cv, n_jobs, verbose, fit_params, pre_dispatch)\u001b[0m\n\u001b[1;32m   1431\u001b[0m                                               \u001b[0mtrain\u001b[0m\u001b[0;34m,\u001b[0m \u001b[0mtest\u001b[0m\u001b[0;34m,\u001b[0m \u001b[0mverbose\u001b[0m\u001b[0;34m,\u001b[0m \u001b[0mNone\u001b[0m\u001b[0;34m,\u001b[0m\u001b[0;34m\u001b[0m\u001b[0m\n\u001b[1;32m   1432\u001b[0m                                               fit_params)\n\u001b[0;32m-> 1433\u001b[0;31m                       for train, test in cv)\n\u001b[0m\u001b[1;32m   1434\u001b[0m     \u001b[0;32mreturn\u001b[0m \u001b[0mnp\u001b[0m\u001b[0;34m.\u001b[0m\u001b[0marray\u001b[0m\u001b[0;34m(\u001b[0m\u001b[0mscores\u001b[0m\u001b[0;34m)\u001b[0m\u001b[0;34m[\u001b[0m\u001b[0;34m:\u001b[0m\u001b[0;34m,\u001b[0m \u001b[0;36m0\u001b[0m\u001b[0;34m]\u001b[0m\u001b[0;34m\u001b[0m\u001b[0m\n\u001b[1;32m   1435\u001b[0m \u001b[0;34m\u001b[0m\u001b[0m\n",
      "\u001b[0;32m/Users/Martin/anaconda2/lib/python2.7/site-packages/sklearn/externals/joblib/parallel.pyc\u001b[0m in \u001b[0;36m__call__\u001b[0;34m(self, iterable)\u001b[0m\n\u001b[1;32m    798\u001b[0m             \u001b[0;31m# was dispatched. In particular this covers the edge\u001b[0m\u001b[0;34m\u001b[0m\u001b[0;34m\u001b[0m\u001b[0m\n\u001b[1;32m    799\u001b[0m             \u001b[0;31m# case of Parallel used with an exhausted iterator.\u001b[0m\u001b[0;34m\u001b[0m\u001b[0;34m\u001b[0m\u001b[0m\n\u001b[0;32m--> 800\u001b[0;31m             \u001b[0;32mwhile\u001b[0m \u001b[0mself\u001b[0m\u001b[0;34m.\u001b[0m\u001b[0mdispatch_one_batch\u001b[0m\u001b[0;34m(\u001b[0m\u001b[0miterator\u001b[0m\u001b[0;34m)\u001b[0m\u001b[0;34m:\u001b[0m\u001b[0;34m\u001b[0m\u001b[0m\n\u001b[0m\u001b[1;32m    801\u001b[0m                 \u001b[0mself\u001b[0m\u001b[0;34m.\u001b[0m\u001b[0m_iterating\u001b[0m \u001b[0;34m=\u001b[0m \u001b[0mTrue\u001b[0m\u001b[0;34m\u001b[0m\u001b[0m\n\u001b[1;32m    802\u001b[0m             \u001b[0;32melse\u001b[0m\u001b[0;34m:\u001b[0m\u001b[0;34m\u001b[0m\u001b[0m\n",
      "\u001b[0;32m/Users/Martin/anaconda2/lib/python2.7/site-packages/sklearn/externals/joblib/parallel.pyc\u001b[0m in \u001b[0;36mdispatch_one_batch\u001b[0;34m(self, iterator)\u001b[0m\n\u001b[1;32m    656\u001b[0m                 \u001b[0;32mreturn\u001b[0m \u001b[0mFalse\u001b[0m\u001b[0;34m\u001b[0m\u001b[0m\n\u001b[1;32m    657\u001b[0m             \u001b[0;32melse\u001b[0m\u001b[0;34m:\u001b[0m\u001b[0;34m\u001b[0m\u001b[0m\n\u001b[0;32m--> 658\u001b[0;31m                 \u001b[0mself\u001b[0m\u001b[0;34m.\u001b[0m\u001b[0m_dispatch\u001b[0m\u001b[0;34m(\u001b[0m\u001b[0mtasks\u001b[0m\u001b[0;34m)\u001b[0m\u001b[0;34m\u001b[0m\u001b[0m\n\u001b[0m\u001b[1;32m    659\u001b[0m                 \u001b[0;32mreturn\u001b[0m \u001b[0mTrue\u001b[0m\u001b[0;34m\u001b[0m\u001b[0m\n\u001b[1;32m    660\u001b[0m \u001b[0;34m\u001b[0m\u001b[0m\n",
      "\u001b[0;32m/Users/Martin/anaconda2/lib/python2.7/site-packages/sklearn/externals/joblib/parallel.pyc\u001b[0m in \u001b[0;36m_dispatch\u001b[0;34m(self, batch)\u001b[0m\n\u001b[1;32m    564\u001b[0m \u001b[0;34m\u001b[0m\u001b[0m\n\u001b[1;32m    565\u001b[0m         \u001b[0;32mif\u001b[0m \u001b[0mself\u001b[0m\u001b[0;34m.\u001b[0m\u001b[0m_pool\u001b[0m \u001b[0;32mis\u001b[0m \u001b[0mNone\u001b[0m\u001b[0;34m:\u001b[0m\u001b[0;34m\u001b[0m\u001b[0m\n\u001b[0;32m--> 566\u001b[0;31m             \u001b[0mjob\u001b[0m \u001b[0;34m=\u001b[0m \u001b[0mImmediateComputeBatch\u001b[0m\u001b[0;34m(\u001b[0m\u001b[0mbatch\u001b[0m\u001b[0;34m)\u001b[0m\u001b[0;34m\u001b[0m\u001b[0m\n\u001b[0m\u001b[1;32m    567\u001b[0m             \u001b[0mself\u001b[0m\u001b[0;34m.\u001b[0m\u001b[0m_jobs\u001b[0m\u001b[0;34m.\u001b[0m\u001b[0mappend\u001b[0m\u001b[0;34m(\u001b[0m\u001b[0mjob\u001b[0m\u001b[0;34m)\u001b[0m\u001b[0;34m\u001b[0m\u001b[0m\n\u001b[1;32m    568\u001b[0m             \u001b[0mself\u001b[0m\u001b[0;34m.\u001b[0m\u001b[0mn_dispatched_batches\u001b[0m \u001b[0;34m+=\u001b[0m \u001b[0;36m1\u001b[0m\u001b[0;34m\u001b[0m\u001b[0m\n",
      "\u001b[0;32m/Users/Martin/anaconda2/lib/python2.7/site-packages/sklearn/externals/joblib/parallel.pyc\u001b[0m in \u001b[0;36m__init__\u001b[0;34m(self, batch)\u001b[0m\n\u001b[1;32m    178\u001b[0m         \u001b[0;31m# Don't delay the application, to avoid keeping the input\u001b[0m\u001b[0;34m\u001b[0m\u001b[0;34m\u001b[0m\u001b[0m\n\u001b[1;32m    179\u001b[0m         \u001b[0;31m# arguments in memory\u001b[0m\u001b[0;34m\u001b[0m\u001b[0;34m\u001b[0m\u001b[0m\n\u001b[0;32m--> 180\u001b[0;31m         \u001b[0mself\u001b[0m\u001b[0;34m.\u001b[0m\u001b[0mresults\u001b[0m \u001b[0;34m=\u001b[0m \u001b[0mbatch\u001b[0m\u001b[0;34m(\u001b[0m\u001b[0;34m)\u001b[0m\u001b[0;34m\u001b[0m\u001b[0m\n\u001b[0m\u001b[1;32m    181\u001b[0m \u001b[0;34m\u001b[0m\u001b[0m\n\u001b[1;32m    182\u001b[0m     \u001b[0;32mdef\u001b[0m \u001b[0mget\u001b[0m\u001b[0;34m(\u001b[0m\u001b[0mself\u001b[0m\u001b[0;34m)\u001b[0m\u001b[0;34m:\u001b[0m\u001b[0;34m\u001b[0m\u001b[0m\n",
      "\u001b[0;32m/Users/Martin/anaconda2/lib/python2.7/site-packages/sklearn/externals/joblib/parallel.pyc\u001b[0m in \u001b[0;36m__call__\u001b[0;34m(self)\u001b[0m\n\u001b[1;32m     70\u001b[0m \u001b[0;34m\u001b[0m\u001b[0m\n\u001b[1;32m     71\u001b[0m     \u001b[0;32mdef\u001b[0m \u001b[0m__call__\u001b[0m\u001b[0;34m(\u001b[0m\u001b[0mself\u001b[0m\u001b[0;34m)\u001b[0m\u001b[0;34m:\u001b[0m\u001b[0;34m\u001b[0m\u001b[0m\n\u001b[0;32m---> 72\u001b[0;31m         \u001b[0;32mreturn\u001b[0m \u001b[0;34m[\u001b[0m\u001b[0mfunc\u001b[0m\u001b[0;34m(\u001b[0m\u001b[0;34m*\u001b[0m\u001b[0margs\u001b[0m\u001b[0;34m,\u001b[0m \u001b[0;34m**\u001b[0m\u001b[0mkwargs\u001b[0m\u001b[0;34m)\u001b[0m \u001b[0;32mfor\u001b[0m \u001b[0mfunc\u001b[0m\u001b[0;34m,\u001b[0m \u001b[0margs\u001b[0m\u001b[0;34m,\u001b[0m \u001b[0mkwargs\u001b[0m \u001b[0;32min\u001b[0m \u001b[0mself\u001b[0m\u001b[0;34m.\u001b[0m\u001b[0mitems\u001b[0m\u001b[0;34m]\u001b[0m\u001b[0;34m\u001b[0m\u001b[0m\n\u001b[0m\u001b[1;32m     73\u001b[0m \u001b[0;34m\u001b[0m\u001b[0m\n\u001b[1;32m     74\u001b[0m     \u001b[0;32mdef\u001b[0m \u001b[0m__len__\u001b[0m\u001b[0;34m(\u001b[0m\u001b[0mself\u001b[0m\u001b[0;34m)\u001b[0m\u001b[0;34m:\u001b[0m\u001b[0;34m\u001b[0m\u001b[0m\n",
      "\u001b[0;32m/Users/Martin/anaconda2/lib/python2.7/site-packages/sklearn/cross_validation.pyc\u001b[0m in \u001b[0;36m_fit_and_score\u001b[0;34m(estimator, X, y, scorer, train, test, verbose, parameters, fit_params, return_train_score, return_parameters, error_score)\u001b[0m\n\u001b[1;32m   1522\u001b[0m     \u001b[0mstart_time\u001b[0m \u001b[0;34m=\u001b[0m \u001b[0mtime\u001b[0m\u001b[0;34m.\u001b[0m\u001b[0mtime\u001b[0m\u001b[0;34m(\u001b[0m\u001b[0;34m)\u001b[0m\u001b[0;34m\u001b[0m\u001b[0m\n\u001b[1;32m   1523\u001b[0m \u001b[0;34m\u001b[0m\u001b[0m\n\u001b[0;32m-> 1524\u001b[0;31m     \u001b[0mX_train\u001b[0m\u001b[0;34m,\u001b[0m \u001b[0my_train\u001b[0m \u001b[0;34m=\u001b[0m \u001b[0m_safe_split\u001b[0m\u001b[0;34m(\u001b[0m\u001b[0mestimator\u001b[0m\u001b[0;34m,\u001b[0m \u001b[0mX\u001b[0m\u001b[0;34m,\u001b[0m \u001b[0my\u001b[0m\u001b[0;34m,\u001b[0m \u001b[0mtrain\u001b[0m\u001b[0;34m)\u001b[0m\u001b[0;34m\u001b[0m\u001b[0m\n\u001b[0m\u001b[1;32m   1525\u001b[0m     \u001b[0mX_test\u001b[0m\u001b[0;34m,\u001b[0m \u001b[0my_test\u001b[0m \u001b[0;34m=\u001b[0m \u001b[0m_safe_split\u001b[0m\u001b[0;34m(\u001b[0m\u001b[0mestimator\u001b[0m\u001b[0;34m,\u001b[0m \u001b[0mX\u001b[0m\u001b[0;34m,\u001b[0m \u001b[0my\u001b[0m\u001b[0;34m,\u001b[0m \u001b[0mtest\u001b[0m\u001b[0;34m,\u001b[0m \u001b[0mtrain\u001b[0m\u001b[0;34m)\u001b[0m\u001b[0;34m\u001b[0m\u001b[0m\n\u001b[1;32m   1526\u001b[0m \u001b[0;34m\u001b[0m\u001b[0m\n",
      "\u001b[0;32m/Users/Martin/anaconda2/lib/python2.7/site-packages/sklearn/cross_validation.pyc\u001b[0m in \u001b[0;36m_safe_split\u001b[0;34m(estimator, X, y, indices, train_indices)\u001b[0m\n\u001b[1;32m   1589\u001b[0m                 \u001b[0mX_subset\u001b[0m \u001b[0;34m=\u001b[0m \u001b[0mX\u001b[0m\u001b[0;34m[\u001b[0m\u001b[0mnp\u001b[0m\u001b[0;34m.\u001b[0m\u001b[0mix_\u001b[0m\u001b[0;34m(\u001b[0m\u001b[0mindices\u001b[0m\u001b[0;34m,\u001b[0m \u001b[0mtrain_indices\u001b[0m\u001b[0;34m)\u001b[0m\u001b[0;34m]\u001b[0m\u001b[0;34m\u001b[0m\u001b[0m\n\u001b[1;32m   1590\u001b[0m         \u001b[0;32melse\u001b[0m\u001b[0;34m:\u001b[0m\u001b[0;34m\u001b[0m\u001b[0m\n\u001b[0;32m-> 1591\u001b[0;31m             \u001b[0mX_subset\u001b[0m \u001b[0;34m=\u001b[0m \u001b[0msafe_indexing\u001b[0m\u001b[0;34m(\u001b[0m\u001b[0mX\u001b[0m\u001b[0;34m,\u001b[0m \u001b[0mindices\u001b[0m\u001b[0;34m)\u001b[0m\u001b[0;34m\u001b[0m\u001b[0m\n\u001b[0m\u001b[1;32m   1592\u001b[0m \u001b[0;34m\u001b[0m\u001b[0m\n\u001b[1;32m   1593\u001b[0m     \u001b[0;32mif\u001b[0m \u001b[0my\u001b[0m \u001b[0;32mis\u001b[0m \u001b[0;32mnot\u001b[0m \u001b[0mNone\u001b[0m\u001b[0;34m:\u001b[0m\u001b[0;34m\u001b[0m\u001b[0m\n",
      "\u001b[0;32m/Users/Martin/anaconda2/lib/python2.7/site-packages/sklearn/utils/__init__.pyc\u001b[0m in \u001b[0;36msafe_indexing\u001b[0;34m(X, indices)\u001b[0m\n\u001b[1;32m    150\u001b[0m         \u001b[0;31m# Pandas Dataframes and Series\u001b[0m\u001b[0;34m\u001b[0m\u001b[0;34m\u001b[0m\u001b[0m\n\u001b[1;32m    151\u001b[0m         \u001b[0;32mtry\u001b[0m\u001b[0;34m:\u001b[0m\u001b[0;34m\u001b[0m\u001b[0m\n\u001b[0;32m--> 152\u001b[0;31m             \u001b[0;32mreturn\u001b[0m \u001b[0mX\u001b[0m\u001b[0;34m.\u001b[0m\u001b[0miloc\u001b[0m\u001b[0;34m[\u001b[0m\u001b[0mindices\u001b[0m\u001b[0;34m]\u001b[0m\u001b[0;34m\u001b[0m\u001b[0m\n\u001b[0m\u001b[1;32m    153\u001b[0m         \u001b[0;32mexcept\u001b[0m \u001b[0mValueError\u001b[0m\u001b[0;34m:\u001b[0m\u001b[0;34m\u001b[0m\u001b[0m\n\u001b[1;32m    154\u001b[0m             \u001b[0;31m# Cython typed memoryviews internally used in pandas do not support\u001b[0m\u001b[0;34m\u001b[0m\u001b[0;34m\u001b[0m\u001b[0m\n",
      "\u001b[0;32m/Users/Martin/anaconda2/lib/python2.7/site-packages/pandas/core/indexing.pyc\u001b[0m in \u001b[0;36m__getitem__\u001b[0;34m(self, key)\u001b[0m\n\u001b[1;32m   1294\u001b[0m             \u001b[0;32mreturn\u001b[0m \u001b[0mself\u001b[0m\u001b[0;34m.\u001b[0m\u001b[0m_getitem_tuple\u001b[0m\u001b[0;34m(\u001b[0m\u001b[0mkey\u001b[0m\u001b[0;34m)\u001b[0m\u001b[0;34m\u001b[0m\u001b[0m\n\u001b[1;32m   1295\u001b[0m         \u001b[0;32melse\u001b[0m\u001b[0;34m:\u001b[0m\u001b[0;34m\u001b[0m\u001b[0m\n\u001b[0;32m-> 1296\u001b[0;31m             \u001b[0;32mreturn\u001b[0m \u001b[0mself\u001b[0m\u001b[0;34m.\u001b[0m\u001b[0m_getitem_axis\u001b[0m\u001b[0;34m(\u001b[0m\u001b[0mkey\u001b[0m\u001b[0;34m,\u001b[0m \u001b[0maxis\u001b[0m\u001b[0;34m=\u001b[0m\u001b[0;36m0\u001b[0m\u001b[0;34m)\u001b[0m\u001b[0;34m\u001b[0m\u001b[0m\n\u001b[0m\u001b[1;32m   1297\u001b[0m \u001b[0;34m\u001b[0m\u001b[0m\n\u001b[1;32m   1298\u001b[0m     \u001b[0;32mdef\u001b[0m \u001b[0m_getitem_axis\u001b[0m\u001b[0;34m(\u001b[0m\u001b[0mself\u001b[0m\u001b[0;34m,\u001b[0m \u001b[0mkey\u001b[0m\u001b[0;34m,\u001b[0m \u001b[0maxis\u001b[0m\u001b[0;34m=\u001b[0m\u001b[0;36m0\u001b[0m\u001b[0;34m)\u001b[0m\u001b[0;34m:\u001b[0m\u001b[0;34m\u001b[0m\u001b[0m\n",
      "\u001b[0;32m/Users/Martin/anaconda2/lib/python2.7/site-packages/pandas/core/indexing.pyc\u001b[0m in \u001b[0;36m_getitem_axis\u001b[0;34m(self, key, axis)\u001b[0m\n\u001b[1;32m   1612\u001b[0m                 \u001b[0mself\u001b[0m\u001b[0;34m.\u001b[0m\u001b[0m_is_valid_integer\u001b[0m\u001b[0;34m(\u001b[0m\u001b[0mkey\u001b[0m\u001b[0;34m,\u001b[0m \u001b[0maxis\u001b[0m\u001b[0;34m)\u001b[0m\u001b[0;34m\u001b[0m\u001b[0m\n\u001b[1;32m   1613\u001b[0m \u001b[0;34m\u001b[0m\u001b[0m\n\u001b[0;32m-> 1614\u001b[0;31m             \u001b[0;32mreturn\u001b[0m \u001b[0mself\u001b[0m\u001b[0;34m.\u001b[0m\u001b[0m_get_loc\u001b[0m\u001b[0;34m(\u001b[0m\u001b[0mkey\u001b[0m\u001b[0;34m,\u001b[0m \u001b[0maxis\u001b[0m\u001b[0;34m=\u001b[0m\u001b[0maxis\u001b[0m\u001b[0;34m)\u001b[0m\u001b[0;34m\u001b[0m\u001b[0m\n\u001b[0m\u001b[1;32m   1615\u001b[0m \u001b[0;34m\u001b[0m\u001b[0m\n\u001b[1;32m   1616\u001b[0m     \u001b[0;32mdef\u001b[0m \u001b[0m_convert_to_indexer\u001b[0m\u001b[0;34m(\u001b[0m\u001b[0mself\u001b[0m\u001b[0;34m,\u001b[0m \u001b[0mobj\u001b[0m\u001b[0;34m,\u001b[0m \u001b[0maxis\u001b[0m\u001b[0;34m=\u001b[0m\u001b[0;36m0\u001b[0m\u001b[0;34m,\u001b[0m \u001b[0mis_setter\u001b[0m\u001b[0;34m=\u001b[0m\u001b[0mFalse\u001b[0m\u001b[0;34m)\u001b[0m\u001b[0;34m:\u001b[0m\u001b[0;34m\u001b[0m\u001b[0m\n",
      "\u001b[0;32m/Users/Martin/anaconda2/lib/python2.7/site-packages/pandas/core/indexing.pyc\u001b[0m in \u001b[0;36m_get_loc\u001b[0;34m(self, key, axis)\u001b[0m\n\u001b[1;32m     94\u001b[0m \u001b[0;34m\u001b[0m\u001b[0m\n\u001b[1;32m     95\u001b[0m     \u001b[0;32mdef\u001b[0m \u001b[0m_get_loc\u001b[0m\u001b[0;34m(\u001b[0m\u001b[0mself\u001b[0m\u001b[0;34m,\u001b[0m \u001b[0mkey\u001b[0m\u001b[0;34m,\u001b[0m \u001b[0maxis\u001b[0m\u001b[0;34m=\u001b[0m\u001b[0;36m0\u001b[0m\u001b[0;34m)\u001b[0m\u001b[0;34m:\u001b[0m\u001b[0;34m\u001b[0m\u001b[0m\n\u001b[0;32m---> 96\u001b[0;31m         \u001b[0;32mreturn\u001b[0m \u001b[0mself\u001b[0m\u001b[0;34m.\u001b[0m\u001b[0mobj\u001b[0m\u001b[0;34m.\u001b[0m\u001b[0m_ixs\u001b[0m\u001b[0;34m(\u001b[0m\u001b[0mkey\u001b[0m\u001b[0;34m,\u001b[0m \u001b[0maxis\u001b[0m\u001b[0;34m=\u001b[0m\u001b[0maxis\u001b[0m\u001b[0;34m)\u001b[0m\u001b[0;34m\u001b[0m\u001b[0m\n\u001b[0m\u001b[1;32m     97\u001b[0m \u001b[0;34m\u001b[0m\u001b[0m\n\u001b[1;32m     98\u001b[0m     \u001b[0;32mdef\u001b[0m \u001b[0m_slice\u001b[0m\u001b[0;34m(\u001b[0m\u001b[0mself\u001b[0m\u001b[0;34m,\u001b[0m \u001b[0mobj\u001b[0m\u001b[0;34m,\u001b[0m \u001b[0maxis\u001b[0m\u001b[0;34m=\u001b[0m\u001b[0;36m0\u001b[0m\u001b[0;34m,\u001b[0m \u001b[0mkind\u001b[0m\u001b[0;34m=\u001b[0m\u001b[0mNone\u001b[0m\u001b[0;34m)\u001b[0m\u001b[0;34m:\u001b[0m\u001b[0;34m\u001b[0m\u001b[0m\n",
      "\u001b[0;32m/Users/Martin/anaconda2/lib/python2.7/site-packages/pandas/core/frame.pyc\u001b[0m in \u001b[0;36m_ixs\u001b[0;34m(self, i, axis)\u001b[0m\n\u001b[1;32m   1909\u001b[0m                 \u001b[0;32mif\u001b[0m \u001b[0misinstance\u001b[0m\u001b[0;34m(\u001b[0m\u001b[0mlabel\u001b[0m\u001b[0;34m,\u001b[0m \u001b[0mIndex\u001b[0m\u001b[0;34m)\u001b[0m\u001b[0;34m:\u001b[0m\u001b[0;34m\u001b[0m\u001b[0m\n\u001b[1;32m   1910\u001b[0m                     \u001b[0;31m# a location index by definition\u001b[0m\u001b[0;34m\u001b[0m\u001b[0;34m\u001b[0m\u001b[0m\n\u001b[0;32m-> 1911\u001b[0;31m                     \u001b[0mresult\u001b[0m \u001b[0;34m=\u001b[0m \u001b[0mself\u001b[0m\u001b[0;34m.\u001b[0m\u001b[0mtake\u001b[0m\u001b[0;34m(\u001b[0m\u001b[0mi\u001b[0m\u001b[0;34m,\u001b[0m \u001b[0maxis\u001b[0m\u001b[0;34m=\u001b[0m\u001b[0maxis\u001b[0m\u001b[0;34m)\u001b[0m\u001b[0;34m\u001b[0m\u001b[0m\n\u001b[0m\u001b[1;32m   1912\u001b[0m                     \u001b[0mcopy\u001b[0m \u001b[0;34m=\u001b[0m \u001b[0mTrue\u001b[0m\u001b[0;34m\u001b[0m\u001b[0m\n\u001b[1;32m   1913\u001b[0m                 \u001b[0;32melse\u001b[0m\u001b[0;34m:\u001b[0m\u001b[0;34m\u001b[0m\u001b[0m\n",
      "\u001b[0;32m/Users/Martin/anaconda2/lib/python2.7/site-packages/pandas/core/generic.pyc\u001b[0m in \u001b[0;36mtake\u001b[0;34m(self, indices, axis, convert, is_copy, **kwargs)\u001b[0m\n\u001b[1;32m   1631\u001b[0m         new_data = self._data.take(indices,\n\u001b[1;32m   1632\u001b[0m                                    \u001b[0maxis\u001b[0m\u001b[0;34m=\u001b[0m\u001b[0mself\u001b[0m\u001b[0;34m.\u001b[0m\u001b[0m_get_block_manager_axis\u001b[0m\u001b[0;34m(\u001b[0m\u001b[0maxis\u001b[0m\u001b[0;34m)\u001b[0m\u001b[0;34m,\u001b[0m\u001b[0;34m\u001b[0m\u001b[0m\n\u001b[0;32m-> 1633\u001b[0;31m                                    convert=True, verify=True)\n\u001b[0m\u001b[1;32m   1634\u001b[0m         \u001b[0mresult\u001b[0m \u001b[0;34m=\u001b[0m \u001b[0mself\u001b[0m\u001b[0;34m.\u001b[0m\u001b[0m_constructor\u001b[0m\u001b[0;34m(\u001b[0m\u001b[0mnew_data\u001b[0m\u001b[0;34m)\u001b[0m\u001b[0;34m.\u001b[0m\u001b[0m__finalize__\u001b[0m\u001b[0;34m(\u001b[0m\u001b[0mself\u001b[0m\u001b[0;34m)\u001b[0m\u001b[0;34m\u001b[0m\u001b[0m\n\u001b[1;32m   1635\u001b[0m \u001b[0;34m\u001b[0m\u001b[0m\n",
      "\u001b[0;32m/Users/Martin/anaconda2/lib/python2.7/site-packages/pandas/core/internals.pyc\u001b[0m in \u001b[0;36mtake\u001b[0;34m(self, indexer, axis, verify, convert)\u001b[0m\n\u001b[1;32m   3709\u001b[0m         \u001b[0mnew_labels\u001b[0m \u001b[0;34m=\u001b[0m \u001b[0mself\u001b[0m\u001b[0;34m.\u001b[0m\u001b[0maxes\u001b[0m\u001b[0;34m[\u001b[0m\u001b[0maxis\u001b[0m\u001b[0;34m]\u001b[0m\u001b[0;34m.\u001b[0m\u001b[0mtake\u001b[0m\u001b[0;34m(\u001b[0m\u001b[0mindexer\u001b[0m\u001b[0;34m)\u001b[0m\u001b[0;34m\u001b[0m\u001b[0m\n\u001b[1;32m   3710\u001b[0m         return self.reindex_indexer(new_axis=new_labels, indexer=indexer,\n\u001b[0;32m-> 3711\u001b[0;31m                                     axis=axis, allow_dups=True)\n\u001b[0m\u001b[1;32m   3712\u001b[0m \u001b[0;34m\u001b[0m\u001b[0m\n\u001b[1;32m   3713\u001b[0m     \u001b[0;32mdef\u001b[0m \u001b[0mmerge\u001b[0m\u001b[0;34m(\u001b[0m\u001b[0mself\u001b[0m\u001b[0;34m,\u001b[0m \u001b[0mother\u001b[0m\u001b[0;34m,\u001b[0m \u001b[0mlsuffix\u001b[0m\u001b[0;34m=\u001b[0m\u001b[0;34m''\u001b[0m\u001b[0;34m,\u001b[0m \u001b[0mrsuffix\u001b[0m\u001b[0;34m=\u001b[0m\u001b[0;34m''\u001b[0m\u001b[0;34m)\u001b[0m\u001b[0;34m:\u001b[0m\u001b[0;34m\u001b[0m\u001b[0m\n",
      "\u001b[0;32m/Users/Martin/anaconda2/lib/python2.7/site-packages/pandas/core/internals.pyc\u001b[0m in \u001b[0;36mreindex_indexer\u001b[0;34m(self, new_axis, indexer, axis, fill_value, allow_dups, copy)\u001b[0m\n\u001b[1;32m   3595\u001b[0m             new_blocks = [blk.take_nd(indexer, axis=axis, fill_tuple=(\n\u001b[1;32m   3596\u001b[0m                 fill_value if fill_value is not None else blk.fill_value,))\n\u001b[0;32m-> 3597\u001b[0;31m                 for blk in self.blocks]\n\u001b[0m\u001b[1;32m   3598\u001b[0m \u001b[0;34m\u001b[0m\u001b[0m\n\u001b[1;32m   3599\u001b[0m         \u001b[0mnew_axes\u001b[0m \u001b[0;34m=\u001b[0m \u001b[0mlist\u001b[0m\u001b[0;34m(\u001b[0m\u001b[0mself\u001b[0m\u001b[0;34m.\u001b[0m\u001b[0maxes\u001b[0m\u001b[0;34m)\u001b[0m\u001b[0;34m\u001b[0m\u001b[0m\n",
      "\u001b[0;32m/Users/Martin/anaconda2/lib/python2.7/site-packages/pandas/core/internals.pyc\u001b[0m in \u001b[0;36mtake_nd\u001b[0;34m(self, indexer, axis, new_mgr_locs, fill_tuple)\u001b[0m\n\u001b[1;32m    994\u001b[0m             \u001b[0mfill_value\u001b[0m \u001b[0;34m=\u001b[0m \u001b[0mfill_tuple\u001b[0m\u001b[0;34m[\u001b[0m\u001b[0;36m0\u001b[0m\u001b[0;34m]\u001b[0m\u001b[0;34m\u001b[0m\u001b[0m\n\u001b[1;32m    995\u001b[0m             new_values = algos.take_nd(values, indexer, axis=axis,\n\u001b[0;32m--> 996\u001b[0;31m                                        allow_fill=True, fill_value=fill_value)\n\u001b[0m\u001b[1;32m    997\u001b[0m \u001b[0;34m\u001b[0m\u001b[0m\n\u001b[1;32m    998\u001b[0m         \u001b[0;32mif\u001b[0m \u001b[0mnew_mgr_locs\u001b[0m \u001b[0;32mis\u001b[0m \u001b[0mNone\u001b[0m\u001b[0;34m:\u001b[0m\u001b[0;34m\u001b[0m\u001b[0m\n",
      "\u001b[0;32m/Users/Martin/anaconda2/lib/python2.7/site-packages/pandas/core/algorithms.pyc\u001b[0m in \u001b[0;36mtake_nd\u001b[0;34m(arr, indexer, axis, out, fill_value, mask_info, allow_fill)\u001b[0m\n\u001b[1;32m    928\u001b[0m             \u001b[0mout\u001b[0m \u001b[0;34m=\u001b[0m \u001b[0mnp\u001b[0m\u001b[0;34m.\u001b[0m\u001b[0mempty\u001b[0m\u001b[0;34m(\u001b[0m\u001b[0mout_shape\u001b[0m\u001b[0;34m,\u001b[0m \u001b[0mdtype\u001b[0m\u001b[0;34m=\u001b[0m\u001b[0mdtype\u001b[0m\u001b[0;34m,\u001b[0m \u001b[0morder\u001b[0m\u001b[0;34m=\u001b[0m\u001b[0;34m'F'\u001b[0m\u001b[0;34m)\u001b[0m\u001b[0;34m\u001b[0m\u001b[0m\n\u001b[1;32m    929\u001b[0m         \u001b[0;32melse\u001b[0m\u001b[0;34m:\u001b[0m\u001b[0;34m\u001b[0m\u001b[0m\n\u001b[0;32m--> 930\u001b[0;31m             \u001b[0mout\u001b[0m \u001b[0;34m=\u001b[0m \u001b[0mnp\u001b[0m\u001b[0;34m.\u001b[0m\u001b[0mempty\u001b[0m\u001b[0;34m(\u001b[0m\u001b[0mout_shape\u001b[0m\u001b[0;34m,\u001b[0m \u001b[0mdtype\u001b[0m\u001b[0;34m=\u001b[0m\u001b[0mdtype\u001b[0m\u001b[0;34m)\u001b[0m\u001b[0;34m\u001b[0m\u001b[0m\n\u001b[0m\u001b[1;32m    931\u001b[0m \u001b[0;34m\u001b[0m\u001b[0m\n\u001b[1;32m    932\u001b[0m     func = _get_take_nd_function(arr.ndim, arr.dtype, out.dtype, axis=axis,\n",
      "\u001b[0;31mKeyboardInterrupt\u001b[0m: "
     ]
    }
   ],
   "source": [
    "feature_range = range(90,769,10)\n",
    "log_scores = []\n",
    "for value in feature_range:\n",
    "    log_reg_all = LogisticRegression(C=1e2)\n",
    "    scores = cross_val_score(log_reg_all, flt_X[select_feats[0:value]], flt_y, cv=5, scoring='roc_auc')\n",
    "    log_scores.append(np.mean(scores))\n"
   ]
  },
  {
   "cell_type": "code",
   "execution_count": 242,
   "metadata": {
    "collapsed": false
   },
   "outputs": [
    {
     "data": {
      "text/plain": [
       "[<matplotlib.lines.Line2D at 0x488943790>]"
      ]
     },
     "execution_count": 242,
     "metadata": {},
     "output_type": "execute_result"
    },
    {
     "data": {
      "image/png": "[encoded data removed]",
      "text/plain": [
       "<matplotlib.figure.Figure at 0x1d1b34b90>"
      ]
     },
     "metadata": {},
     "output_type": "display_data"
    }
   ],
   "source": [
    "plt.plot(feature_range[0:42],log_scores)"
   ]
  },
  {
   "cell_type": "markdown",
   "metadata": {},
   "source": [
    "### Part 3.2: Add new features"
   ]
  },
  {
   "cell_type": "code",
   "execution_count": 79,
   "metadata": {
    "collapsed": false
   },
   "outputs": [],
   "source": [
    "# create low cost carrier categorical feature\n",
    "low_cost_carriers = ['G4','F9','B6','WN','NK','SY']\n",
    "flights_all['LOW_COST']=flights_all['UNIQUE_CARRIER'].isin(low_cost_carriers)"
   ]
  },
  {
   "cell_type": "code",
   "execution_count": 80,
   "metadata": {
    "collapsed": false
   },
   "outputs": [
    {
     "data": {
      "text/plain": [
       "<matplotlib.axes._subplots.AxesSubplot at 0x1786bc390>"
      ]
     },
     "execution_count": 80,
     "metadata": {},
     "output_type": "execute_result"
    },
    {
     "data": {
      "image/png": "[encoded data removed]",
      "text/plain": [
       "<matplotlib.figure.Figure at 0x1dd71d290>"
      ]
     },
     "metadata": {},
     "output_type": "display_data"
    }
   ],
   "source": [
    "flights_all.groupby('LOW_COST').cat_response.mean().plot(kind='bar')"
   ]
  },
  {
   "cell_type": "code",
   "execution_count": 81,
   "metadata": {
    "collapsed": true
   },
   "outputs": [],
   "source": [
    "# create regional carrier categorical feature\n",
    "regional_carriers = ['ZW','9K','C5','CP','9E','MQ','EV','QX','WP','M5','YV','MW','KS','PT','OH','7H','YX','S5','3M','OO','AX','VC','G7','ZK']\n",
    "flights_all['REGIONAL']=flights_all['UNIQUE_CARRIER'].isin(regional_carriers)"
   ]
  },
  {
   "cell_type": "code",
   "execution_count": 82,
   "metadata": {
    "collapsed": false,
    "scrolled": true
   },
   "outputs": [
    {
     "data": {
      "text/plain": [
       "<matplotlib.axes._subplots.AxesSubplot at 0x1788ab050>"
      ]
     },
     "execution_count": 82,
     "metadata": {},
     "output_type": "execute_result"
    },
    {
     "data": {
      "image/png": "[encoded data removed]",
      "text/plain": [
       "<matplotlib.figure.Figure at 0x178846bd0>"
      ]
     },
     "metadata": {},
     "output_type": "display_data"
    }
   ],
   "source": [
    "flights_all.groupby('REGIONAL').cat_response.mean().plot(kind='bar')"
   ]
  },
  {
   "cell_type": "code",
   "execution_count": 83,
   "metadata": {
    "collapsed": false
   },
   "outputs": [],
   "source": [
    "# create number of airlines serving airport feature\n",
    "num_carrier = flights_all.groupby('ORIGIN').UNIQUE_CARRIER.value_counts()"
   ]
  },
  {
   "cell_type": "code",
   "execution_count": 84,
   "metadata": {
    "collapsed": false
   },
   "outputs": [],
   "source": [
    "num_carrier = num_carrier.groupby(level=0).count().to_dict()"
   ]
  },
  {
   "cell_type": "code",
   "execution_count": 85,
   "metadata": {
    "collapsed": false
   },
   "outputs": [],
   "source": [
    "flights_all['NUM_CARRIERS'] = flights_all['ORIGIN'].apply(lambda x: num_carrier[x])"
   ]
  },
  {
   "cell_type": "code",
   "execution_count": 86,
   "metadata": {
    "collapsed": false
   },
   "outputs": [
    {
     "data": {
      "text/plain": [
       "<matplotlib.axes._subplots.AxesSubplot at 0x178c7d110>"
      ]
     },
     "execution_count": 86,
     "metadata": {},
     "output_type": "execute_result"
    },
    {
     "data": {
      "image/png": "[encoded data removed]",
      "text/plain": [
       "<matplotlib.figure.Figure at 0x17929b210>"
      ]
     },
     "metadata": {},
     "output_type": "display_data"
    }
   ],
   "source": [
    "flights_all.groupby('NUM_CARRIERS').cat_response.mean().plot(kind='bar')"
   ]
  },
  {
   "cell_type": "code",
   "execution_count": 87,
   "metadata": {
    "collapsed": false
   },
   "outputs": [],
   "source": [
    "# create number of flights serving origin airport feature (traffic)\n",
    "num_flights = flights_all.groupby('ORIGIN').UNIQUE_CARRIER.count()"
   ]
  },
  {
   "cell_type": "code",
   "execution_count": 88,
   "metadata": {
    "collapsed": false
   },
   "outputs": [
    {
     "data": {
      "text/plain": [
       "ORIGIN\n",
       "EFD         1\n",
       "MHK         1\n",
       "AKN        63\n",
       "ADK        75\n",
       "MMH        77\n",
       "ABI        78\n",
       "DLG        83\n",
       "GST        83\n",
       "PPG        93\n",
       "HYA       115\n",
       "GRI       158\n",
       "UST       166\n",
       "GUC       200\n",
       "WYS       224\n",
       "OTH       229\n",
       "MVY       234\n",
       "GCK       235\n",
       "PBG       243\n",
       "GGG       244\n",
       "IAG       262\n",
       "GUM       274\n",
       "ROW       278\n",
       "TYR       395\n",
       "ADQ       409\n",
       "DVL       422\n",
       "JLN       423\n",
       "HOB       448\n",
       "LAR       450\n",
       "HYS       450\n",
       "INL       454\n",
       "        ...  \n",
       "STL     40779\n",
       "PDX     43540\n",
       "TPA     50741\n",
       "DAL     50845\n",
       "MIA     52051\n",
       "PHL     54119\n",
       "DCA     57680\n",
       "SAN     57845\n",
       "FLL     61702\n",
       "MDW     64898\n",
       "BWI     69957\n",
       "LGA     71360\n",
       "JFK     73079\n",
       "SLC     81385\n",
       "CLT     81897\n",
       "EWR     83309\n",
       "BOS     90131\n",
       "DTW     91964\n",
       "MCO     93728\n",
       "MSP     96932\n",
       "SEA    100312\n",
       "IAH    101678\n",
       "LAS    111991\n",
       "PHX    118744\n",
       "SFO    127506\n",
       "DFW    146634\n",
       "LAX    158150\n",
       "DEN    168023\n",
       "ORD    180708\n",
       "ATL    287450\n",
       "Name: UNIQUE_CARRIER, dtype: int64"
      ]
     },
     "execution_count": 88,
     "metadata": {},
     "output_type": "execute_result"
    }
   ],
   "source": [
    "num_flights.sort_values()"
   ]
  },
  {
   "cell_type": "code",
   "execution_count": 89,
   "metadata": {
    "collapsed": true
   },
   "outputs": [],
   "source": [
    "num_flights = num_flights.to_dict()"
   ]
  },
  {
   "cell_type": "code",
   "execution_count": 90,
   "metadata": {
    "collapsed": true
   },
   "outputs": [],
   "source": [
    "flights_all['NUM_FLIGHTS_ORG'] = flights_all['ORIGIN'].apply(lambda x: num_flights[x])"
   ]
  },
  {
   "cell_type": "code",
   "execution_count": 91,
   "metadata": {
    "collapsed": false
   },
   "outputs": [
    {
     "data": {
      "text/plain": [
       "DEST\n",
       "MHK         1\n",
       "AKN        63\n",
       "ADK        75\n",
       "ABI        79\n",
       "MMH        81\n",
       "GST        82\n",
       "DLG        84\n",
       "PPG        93\n",
       "HYA       116\n",
       "GRI       159\n",
       "UST       166\n",
       "GUC       200\n",
       "WYS       224\n",
       "OTH       225\n",
       "MVY       234\n",
       "GCK       237\n",
       "PBG       244\n",
       "GGG       244\n",
       "IAG       266\n",
       "GUM       274\n",
       "ROW       278\n",
       "TYR       395\n",
       "ADQ       409\n",
       "JLN       425\n",
       "DVL       427\n",
       "HOB       446\n",
       "LAR       448\n",
       "HYS       449\n",
       "ESC       458\n",
       "INL       464\n",
       "        ...  \n",
       "STL     40848\n",
       "PDX     43643\n",
       "DAL     50649\n",
       "TPA     50798\n",
       "MIA     52007\n",
       "PHL     54107\n",
       "DCA     57721\n",
       "SAN     58000\n",
       "FLL     61650\n",
       "MDW     64839\n",
       "BWI     69954\n",
       "LGA     71228\n",
       "JFK     72927\n",
       "SLC     81522\n",
       "CLT     81717\n",
       "EWR     83222\n",
       "BOS     90301\n",
       "DTW     92103\n",
       "MCO     93717\n",
       "MSP     96921\n",
       "SEA    100371\n",
       "IAH    101261\n",
       "LAS    112121\n",
       "PHX    118460\n",
       "SFO    127561\n",
       "DFW    146142\n",
       "LAX    158299\n",
       "DEN    167621\n",
       "ORD    180413\n",
       "ATL    287287\n",
       "Name: UNIQUE_CARRIER, dtype: int64"
      ]
     },
     "execution_count": 91,
     "metadata": {},
     "output_type": "execute_result"
    }
   ],
   "source": [
    "# create number of flights serving dest airport feature (traffic)\n",
    "num_flights_dest = flights_all.groupby('DEST').UNIQUE_CARRIER.count()\n",
    "num_flights_dest.sort_values()"
   ]
  },
  {
   "cell_type": "code",
   "execution_count": 92,
   "metadata": {
    "collapsed": true
   },
   "outputs": [],
   "source": [
    "num_flight_dest = num_flights_dest.to_dict()\n",
    "flights_all['NUM_FLIGHTS_DEST'] = flights_all['DEST'].apply(lambda x: num_flights_dest[x])"
   ]
  },
  {
   "cell_type": "code",
   "execution_count": 93,
   "metadata": {
    "collapsed": false
   },
   "outputs": [
    {
     "data": {
      "text/plain": [
       "[Holiday: Labor Day (month=9, day=1, offset=<DateOffset: kwds={'weekday': MO(+1)}>),\n",
       " Holiday: Presidents Day (month=2, day=1, offset=<DateOffset: kwds={'weekday': MO(+3)}>),\n",
       " Holiday: Columbus Day (month=10, day=1, offset=<DateOffset: kwds={'weekday': MO(+2)}>),\n",
       " Holiday: Veterans Day (month=11, day=11, observance=<function nearest_workday at 0x179445668>),\n",
       " Holiday: Good Friday (month=1, day=1, offset=[<Easter>, <-2 * Days>]),\n",
       " Holiday: Dr. Martin Luther King Jr. (month=1, day=1, offset=<DateOffset: kwds={'weekday': MO(+3)}>),\n",
       " Holiday: New Years Day (month=1, day=1, observance=<function nearest_workday at 0x179445668>),\n",
       " Holiday: Thanksgiving (month=11, day=1, offset=<DateOffset: kwds={'weekday': TH(+4)}>),\n",
       " Holiday: July 4th (month=7, day=4, observance=<function nearest_workday at 0x179445668>),\n",
       " Holiday: Easter Monday (month=1, day=1, offset=[<Easter>, <Day>]),\n",
       " Holiday: Christmas (month=12, day=25, observance=<function nearest_workday at 0x179445668>),\n",
       " Holiday: MemorialDay (month=5, day=31, offset=<DateOffset: kwds={'weekday': MO(-1)}>)]"
      ]
     },
     "execution_count": 93,
     "metadata": {},
     "output_type": "execute_result"
    }
   ],
   "source": [
    "# create holiday feature\n",
    "from pandas.tseries.holiday import get_calendar, USFederalHolidayCalendar, HolidayCalendarFactory, GoodFriday, EasterMonday\n",
    "cal = get_calendar('USFederalHolidayCalendar')  # Create calendar instance\n",
    "tradingCal = HolidayCalendarFactory('TradingCalendar', cal, GoodFriday)\n",
    "tradingCal = HolidayCalendarFactory('TradingCalendar', tradingCal, EasterMonday)\n",
    "tradingCal.rules"
   ]
  },
  {
   "cell_type": "code",
   "execution_count": 94,
   "metadata": {
    "collapsed": false
   },
   "outputs": [
    {
     "name": "stdout",
     "output_type": "stream",
     "text": [
      "DatetimeIndex(['2016-01-01', '2016-01-18', '2016-02-15', '2016-03-25',\n",
      "               '2016-03-28', '2016-05-30', '2016-07-04', '2016-09-05'],\n",
      "              dtype='datetime64[ns]', freq=None)\n"
     ]
    }
   ],
   "source": [
    "from datetime import datetime\n",
    "cal1 = tradingCal()\n",
    "holidays = cal1.holidays(start=flights_all.FL_DATE.min(), end=flights_all.FL_DATE.max())\n",
    "print holidays"
   ]
  },
  {
   "cell_type": "code",
   "execution_count": 95,
   "metadata": {
    "collapsed": false
   },
   "outputs": [],
   "source": [
    "flights_all['HOLIDAY'] = pd.to_datetime(flights_all.FL_DATE).isin(holidays)"
   ]
  },
  {
   "cell_type": "code",
   "execution_count": 96,
   "metadata": {
    "collapsed": false
   },
   "outputs": [
    {
     "data": {
      "text/plain": [
       "<matplotlib.axes._subplots.AxesSubplot at 0x179290150>"
      ]
     },
     "execution_count": 96,
     "metadata": {},
     "output_type": "execute_result"
    },
    {
     "data": {
      "image/png": "[encoded data removed]",
      "text/plain": [
       "<matplotlib.figure.Figure at 0x179428d50>"
      ]
     },
     "metadata": {},
     "output_type": "display_data"
    }
   ],
   "source": [
    "flights_all.groupby('HOLIDAY').cat_response.mean().plot(kind='bar')"
   ]
  },
  {
   "cell_type": "markdown",
   "metadata": {
    "collapsed": false
   },
   "source": [
    "### Part 3.3: Rerun Model"
   ]
  },
  {
   "cell_type": "code",
   "execution_count": 97,
   "metadata": {
    "collapsed": true
   },
   "outputs": [],
   "source": [
    "flt_X = pd.concat([flights_all.QUARTER,flights_all.MONTH,flights_all.DAY_OF_WEEK,flights_all.DISTANCE_GROUP,flights_all.LOW_COST,flights_all.REGIONAL,flights_all.NUM_CARRIERS,flights_all.NUM_FLIGHTS_ORG,flights_all.NUM_FLIGHTS_DEST, carrier_all, org_all, dest_all, org_st_all, dest_st_all, dep_blk_all, arr_blk_all], axis=1)"
   ]
  },
  {
   "cell_type": "code",
   "execution_count": 98,
   "metadata": {
    "collapsed": true
   },
   "outputs": [],
   "source": [
    "X_train_all, X_test_all, y_train_all, y_test_all = train_test_split(flt_X, flt_y)"
   ]
  },
  {
   "cell_type": "code",
   "execution_count": 284,
   "metadata": {
    "collapsed": false
   },
   "outputs": [
    {
     "name": "stdout",
     "output_type": "stream",
     "text": [
      "0.653244498168\n"
     ]
    }
   ],
   "source": [
    "log_reg_all = LogisticRegression(C=1e2)\n",
    "log_reg_all.fit(X_train_all, y_train_all)\n",
    "y_pred_all = log_reg_all.predict(X_test_all)\n",
    "print metrics.accuracy_score(y_test_all, y_pred_all)"
   ]
  },
  {
   "cell_type": "code",
   "execution_count": 99,
   "metadata": {
    "collapsed": false
   },
   "outputs": [
    {
     "data": {
      "text/plain": [
       "0.68667664383430227"
      ]
     },
     "execution_count": 99,
     "metadata": {},
     "output_type": "execute_result"
    }
   ],
   "source": [
    "rfcl = RandomForestClassifier(max_depth=30)\n",
    "rfcl.fit(X_train_all, y_train_all)\n",
    "y_pred = rfcl.predict(X_test_all)\n",
    "metrics.accuracy_score(y_test_all, y_pred)"
   ]
  },
  {
   "cell_type": "code",
   "execution_count": 100,
   "metadata": {
    "collapsed": false
   },
   "outputs": [
    {
     "name": "stdout",
     "output_type": "stream",
     "text": [
      "0.687803846426\n"
     ]
    }
   ],
   "source": [
    "# calculate AUC\n",
    "y_pred_prob = rfcl.predict_proba(X_test_all)[:, 1]\n",
    "print metrics.roc_auc_score(y_test_all, y_pred_prob)"
   ]
  },
  {
   "cell_type": "code",
   "execution_count": 101,
   "metadata": {
    "collapsed": false
   },
   "outputs": [
    {
     "data": {
      "text/html": [
       "<div>\n",
       "<table border=\"1\" class=\"dataframe\">\n",
       "  <thead>\n",
       "    <tr style=\"text-align: right;\">\n",
       "      <th></th>\n",
       "      <th>feature</th>\n",
       "      <th>importance</th>\n",
       "    </tr>\n",
       "  </thead>\n",
       "  <tbody>\n",
       "    <tr>\n",
       "      <th>2</th>\n",
       "      <td>DAY_OF_WEEK</td>\n",
       "      <td>2.571072e-01</td>\n",
       "    </tr>\n",
       "    <tr>\n",
       "      <th>1</th>\n",
       "      <td>MONTH</td>\n",
       "      <td>1.451776e-01</td>\n",
       "    </tr>\n",
       "    <tr>\n",
       "      <th>0</th>\n",
       "      <td>QUARTER</td>\n",
       "      <td>3.008162e-02</td>\n",
       "    </tr>\n",
       "    <tr>\n",
       "      <th>19</th>\n",
       "      <td>C_WN</td>\n",
       "      <td>2.597116e-02</td>\n",
       "    </tr>\n",
       "    <tr>\n",
       "      <th>7</th>\n",
       "      <td>NUM_FLIGHTS_ORG</td>\n",
       "      <td>2.592528e-02</td>\n",
       "    </tr>\n",
       "    <tr>\n",
       "      <th>4</th>\n",
       "      <td>LOW_COST</td>\n",
       "      <td>2.462230e-02</td>\n",
       "    </tr>\n",
       "    <tr>\n",
       "      <th>3</th>\n",
       "      <td>DISTANCE_GROUP</td>\n",
       "      <td>2.284735e-02</td>\n",
       "    </tr>\n",
       "    <tr>\n",
       "      <th>757</th>\n",
       "      <td>ARR_BLK_0800-0859</td>\n",
       "      <td>2.134519e-02</td>\n",
       "    </tr>\n",
       "    <tr>\n",
       "      <th>738</th>\n",
       "      <td>DEP_BLK_0700-0759</td>\n",
       "      <td>1.873282e-02</td>\n",
       "    </tr>\n",
       "    <tr>\n",
       "      <th>758</th>\n",
       "      <td>ARR_BLK_0900-0959</td>\n",
       "      <td>1.838834e-02</td>\n",
       "    </tr>\n",
       "    <tr>\n",
       "      <th>8</th>\n",
       "      <td>NUM_FLIGHTS_DEST</td>\n",
       "      <td>1.743907e-02</td>\n",
       "    </tr>\n",
       "    <tr>\n",
       "      <th>756</th>\n",
       "      <td>ARR_BLK_0700-0759</td>\n",
       "      <td>1.704615e-02</td>\n",
       "    </tr>\n",
       "    <tr>\n",
       "      <th>6</th>\n",
       "      <td>NUM_CARRIERS</td>\n",
       "      <td>1.542700e-02</td>\n",
       "    </tr>\n",
       "    <tr>\n",
       "      <th>739</th>\n",
       "      <td>DEP_BLK_0800-0859</td>\n",
       "      <td>1.507228e-02</td>\n",
       "    </tr>\n",
       "    <tr>\n",
       "      <th>737</th>\n",
       "      <td>DEP_BLK_0001-0559</td>\n",
       "      <td>1.173891e-02</td>\n",
       "    </tr>\n",
       "    <tr>\n",
       "      <th>5</th>\n",
       "      <td>REGIONAL</td>\n",
       "      <td>1.082479e-02</td>\n",
       "    </tr>\n",
       "    <tr>\n",
       "      <th>749</th>\n",
       "      <td>DEP_BLK_1800-1859</td>\n",
       "      <td>9.352014e-03</td>\n",
       "    </tr>\n",
       "    <tr>\n",
       "      <th>759</th>\n",
       "      <td>ARR_BLK_1000-1059</td>\n",
       "      <td>9.292446e-03</td>\n",
       "    </tr>\n",
       "    <tr>\n",
       "      <th>750</th>\n",
       "      <td>DEP_BLK_1900-1959</td>\n",
       "      <td>7.184875e-03</td>\n",
       "    </tr>\n",
       "    <tr>\n",
       "      <th>748</th>\n",
       "      <td>DEP_BLK_1700-1759</td>\n",
       "      <td>7.095120e-03</td>\n",
       "    </tr>\n",
       "    <tr>\n",
       "      <th>16</th>\n",
       "      <td>C_OO</td>\n",
       "      <td>6.960606e-03</td>\n",
       "    </tr>\n",
       "    <tr>\n",
       "      <th>768</th>\n",
       "      <td>ARR_BLK_1900-1959</td>\n",
       "      <td>6.573547e-03</td>\n",
       "    </tr>\n",
       "    <tr>\n",
       "      <th>760</th>\n",
       "      <td>ARR_BLK_1100-1159</td>\n",
       "      <td>6.272842e-03</td>\n",
       "    </tr>\n",
       "    <tr>\n",
       "      <th>10</th>\n",
       "      <td>C_AS</td>\n",
       "      <td>5.989262e-03</td>\n",
       "    </tr>\n",
       "    <tr>\n",
       "      <th>770</th>\n",
       "      <td>ARR_BLK_2100-2159</td>\n",
       "      <td>5.811370e-03</td>\n",
       "    </tr>\n",
       "    <tr>\n",
       "      <th>747</th>\n",
       "      <td>DEP_BLK_1600-1659</td>\n",
       "      <td>5.525676e-03</td>\n",
       "    </tr>\n",
       "    <tr>\n",
       "      <th>17</th>\n",
       "      <td>C_UA</td>\n",
       "      <td>5.416140e-03</td>\n",
       "    </tr>\n",
       "    <tr>\n",
       "      <th>766</th>\n",
       "      <td>ARR_BLK_1700-1759</td>\n",
       "      <td>5.343244e-03</td>\n",
       "    </tr>\n",
       "    <tr>\n",
       "      <th>751</th>\n",
       "      <td>DEP_BLK_2000-2059</td>\n",
       "      <td>5.329601e-03</td>\n",
       "    </tr>\n",
       "    <tr>\n",
       "      <th>12</th>\n",
       "      <td>C_DL</td>\n",
       "      <td>5.255277e-03</td>\n",
       "    </tr>\n",
       "    <tr>\n",
       "      <th>...</th>\n",
       "      <td>...</td>\n",
       "      <td>...</td>\n",
       "    </tr>\n",
       "    <tr>\n",
       "      <th>268</th>\n",
       "      <td>ORG_RHI</td>\n",
       "      <td>1.795757e-06</td>\n",
       "    </tr>\n",
       "    <tr>\n",
       "      <th>527</th>\n",
       "      <td>DEST_MMH</td>\n",
       "      <td>1.564674e-06</td>\n",
       "    </tr>\n",
       "    <tr>\n",
       "      <th>631</th>\n",
       "      <td>DEST_WYS</td>\n",
       "      <td>1.390154e-06</td>\n",
       "    </tr>\n",
       "    <tr>\n",
       "      <th>413</th>\n",
       "      <td>DEST_DVL</td>\n",
       "      <td>1.373562e-06</td>\n",
       "    </tr>\n",
       "    <tr>\n",
       "      <th>28</th>\n",
       "      <td>ORG_ADK</td>\n",
       "      <td>1.347978e-06</td>\n",
       "    </tr>\n",
       "    <tr>\n",
       "      <th>145</th>\n",
       "      <td>ORG_GST</td>\n",
       "      <td>1.303586e-06</td>\n",
       "    </tr>\n",
       "    <tr>\n",
       "      <th>114</th>\n",
       "      <td>ORG_ESC</td>\n",
       "      <td>1.297617e-06</td>\n",
       "    </tr>\n",
       "    <tr>\n",
       "      <th>20</th>\n",
       "      <td>ORG_ABI</td>\n",
       "      <td>1.269058e-06</td>\n",
       "    </tr>\n",
       "    <tr>\n",
       "      <th>178</th>\n",
       "      <td>ORG_JLN</td>\n",
       "      <td>1.189652e-06</td>\n",
       "    </tr>\n",
       "    <tr>\n",
       "      <th>100</th>\n",
       "      <td>ORG_DLG</td>\n",
       "      <td>1.147996e-06</td>\n",
       "    </tr>\n",
       "    <tr>\n",
       "      <th>559</th>\n",
       "      <td>DEST_PIB</td>\n",
       "      <td>1.106713e-06</td>\n",
       "    </tr>\n",
       "    <tr>\n",
       "      <th>244</th>\n",
       "      <td>ORG_PAH</td>\n",
       "      <td>1.070858e-06</td>\n",
       "    </tr>\n",
       "    <tr>\n",
       "      <th>452</th>\n",
       "      <td>DEST_GST</td>\n",
       "      <td>1.055943e-06</td>\n",
       "    </tr>\n",
       "    <tr>\n",
       "      <th>461</th>\n",
       "      <td>DEST_HOB</td>\n",
       "      <td>9.867275e-07</td>\n",
       "    </tr>\n",
       "    <tr>\n",
       "      <th>257</th>\n",
       "      <td>ORG_PPG</td>\n",
       "      <td>8.065215e-07</td>\n",
       "    </tr>\n",
       "    <tr>\n",
       "      <th>160</th>\n",
       "      <td>ORG_HYS</td>\n",
       "      <td>7.673363e-07</td>\n",
       "    </tr>\n",
       "    <tr>\n",
       "      <th>340</th>\n",
       "      <td>DEST_AKN</td>\n",
       "      <td>6.983204e-07</td>\n",
       "    </tr>\n",
       "    <tr>\n",
       "      <th>630</th>\n",
       "      <td>DEST_WRG</td>\n",
       "      <td>6.588012e-07</td>\n",
       "    </tr>\n",
       "    <tr>\n",
       "      <th>447</th>\n",
       "      <td>DEST_GRI</td>\n",
       "      <td>5.851756e-07</td>\n",
       "    </tr>\n",
       "    <tr>\n",
       "      <th>466</th>\n",
       "      <td>DEST_HYA</td>\n",
       "      <td>5.732334e-07</td>\n",
       "    </tr>\n",
       "    <tr>\n",
       "      <th>474</th>\n",
       "      <td>DEST_IMT</td>\n",
       "      <td>5.437384e-07</td>\n",
       "    </tr>\n",
       "    <tr>\n",
       "      <th>184</th>\n",
       "      <td>ORG_LAR</td>\n",
       "      <td>5.264808e-07</td>\n",
       "    </tr>\n",
       "    <tr>\n",
       "      <th>408</th>\n",
       "      <td>DEST_DLG</td>\n",
       "      <td>4.576766e-07</td>\n",
       "    </tr>\n",
       "    <tr>\n",
       "      <th>336</th>\n",
       "      <td>DEST_ADK</td>\n",
       "      <td>3.899717e-07</td>\n",
       "    </tr>\n",
       "    <tr>\n",
       "      <th>169</th>\n",
       "      <td>ORG_INL</td>\n",
       "      <td>2.285108e-07</td>\n",
       "    </tr>\n",
       "    <tr>\n",
       "      <th>212</th>\n",
       "      <td>ORG_MHK</td>\n",
       "      <td>1.686892e-07</td>\n",
       "    </tr>\n",
       "    <tr>\n",
       "      <th>32</th>\n",
       "      <td>ORG_AKN</td>\n",
       "      <td>1.112039e-07</td>\n",
       "    </tr>\n",
       "    <tr>\n",
       "      <th>519</th>\n",
       "      <td>DEST_MHK</td>\n",
       "      <td>6.964729e-08</td>\n",
       "    </tr>\n",
       "    <tr>\n",
       "      <th>485</th>\n",
       "      <td>DEST_JLN</td>\n",
       "      <td>8.273162e-09</td>\n",
       "    </tr>\n",
       "    <tr>\n",
       "      <th>108</th>\n",
       "      <td>ORG_EFD</td>\n",
       "      <td>0.000000e+00</td>\n",
       "    </tr>\n",
       "  </tbody>\n",
       "</table>\n",
       "<p>773 rows × 2 columns</p>\n",
       "</div>"
      ],
      "text/plain": [
       "               feature    importance\n",
       "2          DAY_OF_WEEK  2.571072e-01\n",
       "1                MONTH  1.451776e-01\n",
       "0              QUARTER  3.008162e-02\n",
       "19                C_WN  2.597116e-02\n",
       "7      NUM_FLIGHTS_ORG  2.592528e-02\n",
       "4             LOW_COST  2.462230e-02\n",
       "3       DISTANCE_GROUP  2.284735e-02\n",
       "757  ARR_BLK_0800-0859  2.134519e-02\n",
       "738  DEP_BLK_0700-0759  1.873282e-02\n",
       "758  ARR_BLK_0900-0959  1.838834e-02\n",
       "8     NUM_FLIGHTS_DEST  1.743907e-02\n",
       "756  ARR_BLK_0700-0759  1.704615e-02\n",
       "6         NUM_CARRIERS  1.542700e-02\n",
       "739  DEP_BLK_0800-0859  1.507228e-02\n",
       "737  DEP_BLK_0001-0559  1.173891e-02\n",
       "5             REGIONAL  1.082479e-02\n",
       "749  DEP_BLK_1800-1859  9.352014e-03\n",
       "759  ARR_BLK_1000-1059  9.292446e-03\n",
       "750  DEP_BLK_1900-1959  7.184875e-03\n",
       "748  DEP_BLK_1700-1759  7.095120e-03\n",
       "16                C_OO  6.960606e-03\n",
       "768  ARR_BLK_1900-1959  6.573547e-03\n",
       "760  ARR_BLK_1100-1159  6.272842e-03\n",
       "10                C_AS  5.989262e-03\n",
       "770  ARR_BLK_2100-2159  5.811370e-03\n",
       "747  DEP_BLK_1600-1659  5.525676e-03\n",
       "17                C_UA  5.416140e-03\n",
       "766  ARR_BLK_1700-1759  5.343244e-03\n",
       "751  DEP_BLK_2000-2059  5.329601e-03\n",
       "12                C_DL  5.255277e-03\n",
       "..                 ...           ...\n",
       "268            ORG_RHI  1.795757e-06\n",
       "527           DEST_MMH  1.564674e-06\n",
       "631           DEST_WYS  1.390154e-06\n",
       "413           DEST_DVL  1.373562e-06\n",
       "28             ORG_ADK  1.347978e-06\n",
       "145            ORG_GST  1.303586e-06\n",
       "114            ORG_ESC  1.297617e-06\n",
       "20             ORG_ABI  1.269058e-06\n",
       "178            ORG_JLN  1.189652e-06\n",
       "100            ORG_DLG  1.147996e-06\n",
       "559           DEST_PIB  1.106713e-06\n",
       "244            ORG_PAH  1.070858e-06\n",
       "452           DEST_GST  1.055943e-06\n",
       "461           DEST_HOB  9.867275e-07\n",
       "257            ORG_PPG  8.065215e-07\n",
       "160            ORG_HYS  7.673363e-07\n",
       "340           DEST_AKN  6.983204e-07\n",
       "630           DEST_WRG  6.588012e-07\n",
       "447           DEST_GRI  5.851756e-07\n",
       "466           DEST_HYA  5.732334e-07\n",
       "474           DEST_IMT  5.437384e-07\n",
       "184            ORG_LAR  5.264808e-07\n",
       "408           DEST_DLG  4.576766e-07\n",
       "336           DEST_ADK  3.899717e-07\n",
       "169            ORG_INL  2.285108e-07\n",
       "212            ORG_MHK  1.686892e-07\n",
       "32             ORG_AKN  1.112039e-07\n",
       "519           DEST_MHK  6.964729e-08\n",
       "485           DEST_JLN  8.273162e-09\n",
       "108            ORG_EFD  0.000000e+00\n",
       "\n",
       "[773 rows x 2 columns]"
      ]
     },
     "execution_count": 101,
     "metadata": {},
     "output_type": "execute_result"
    }
   ],
   "source": [
    "pd.DataFrame({'feature':flt_X.columns, 'importance':rfcl.feature_importances_}).sort_values(by='importance', ascending=False)"
   ]
  },
  {
   "cell_type": "code",
   "execution_count": 102,
   "metadata": {
    "collapsed": false
   },
   "outputs": [
    {
     "data": {
      "text/html": [
       "<div>\n",
       "<table border=\"1\" class=\"dataframe\">\n",
       "  <thead>\n",
       "    <tr style=\"text-align: right;\">\n",
       "      <th>Predicted</th>\n",
       "      <th>0</th>\n",
       "      <th>1</th>\n",
       "      <th>All</th>\n",
       "    </tr>\n",
       "    <tr>\n",
       "      <th>True</th>\n",
       "      <th></th>\n",
       "      <th></th>\n",
       "      <th></th>\n",
       "    </tr>\n",
       "  </thead>\n",
       "  <tbody>\n",
       "    <tr>\n",
       "      <th>0</th>\n",
       "      <td>614761</td>\n",
       "      <td>66385</td>\n",
       "      <td>681146</td>\n",
       "    </tr>\n",
       "    <tr>\n",
       "      <th>1</th>\n",
       "      <td>260217</td>\n",
       "      <td>101017</td>\n",
       "      <td>361234</td>\n",
       "    </tr>\n",
       "    <tr>\n",
       "      <th>All</th>\n",
       "      <td>874978</td>\n",
       "      <td>167402</td>\n",
       "      <td>1042380</td>\n",
       "    </tr>\n",
       "  </tbody>\n",
       "</table>\n",
       "</div>"
      ],
      "text/plain": [
       "Predicted       0       1      All\n",
       "True                              \n",
       "0          614761   66385   681146\n",
       "1          260217  101017   361234\n",
       "All        874978  167402  1042380"
      ]
     },
     "execution_count": 102,
     "metadata": {},
     "output_type": "execute_result"
    }
   ],
   "source": [
    "# confusion matrix\n",
    "pd.crosstab(y_test_all, y_pred, rownames=['True'], colnames=['Predicted'], margins=True)"
   ]
  },
  {
   "cell_type": "code",
   "execution_count": null,
   "metadata": {
    "collapsed": true
   },
   "outputs": [],
   "source": []
  }
 ],
 "metadata": {
  "anaconda-cloud": {},
  "kernelspec": {
   "display_name": "Python [default]",
   "language": "python",
   "name": "python2"
  },
  "language_info": {
   "codemirror_mode": {
    "name": "ipython",
    "version": 2
   },
   "file_extension": ".py",
   "mimetype": "text/x-python",
   "name": "python",
   "nbconvert_exporter": "python",
   "pygments_lexer": "ipython2",
   "version": "2.7.12"
  }
 },
 "nbformat": 4,
 "nbformat_minor": 1
}
